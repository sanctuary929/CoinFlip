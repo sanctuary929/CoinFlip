{
  "cells": [
    {
      "cell_type": "markdown",
      "metadata": {
        "id": "view-in-github",
        "colab_type": "text"
      },
      "source": [
        "<a href=\"https://colab.research.google.com/github/sanctuary929/CoinFlip/blob/master/CEG5304_24Spring_project1_master.ipynb\" target=\"_parent\"><img src=\"https://colab.research.google.com/assets/colab-badge.svg\" alt=\"Open In Colab\"/></a>"
      ]
    },
    {
      "cell_type": "markdown",
      "id": "ea140ec7",
      "metadata": {
        "id": "ea140ec7"
      },
      "source": [
        "# CEG5304 Project #1 for Master students\n",
        "\n",
        "In this project, you are going to start an exciting journey to explore Deep Learning and Neural Networks by completing the following three tasks:\n",
        "\n",
        "* **Task 1. Understanding and conducting convolution (8%).**\n",
        "* **Task 2. Building and training a ResNet18 model (52%).**\n",
        "* **Task 3. Exploring and explaining the trained model (40%).**\n",
        "\n",
        "Before doing the project, please read the instructions carefully (failure to do so will be penalized):\n",
        "\n",
        "1. Implement your codes **within** \"TODO\" and \"END OF YOUR CODE\", do **NOT** modify any codes outside the answer area;\n",
        "2. Make sure your codes **clean**, **easily readable** (add meaningful comments if needed), and **runnable**;\n",
        "3. Write your answers in the given markdown cells, keep your answers clear and concise;\n",
        "4. Do submit your project on [Canvas](https://canvas.nus.edu.sg/) before the deadline: **5:59 pm (SGT), 1 March, 2024**;\n",
        "5. Make sure that the **submitted notebooks have been run** and the **cell outputs are visible**.\n",
        "6. This is an individual project, do **NOT** share your solutions with others, we have zero tolerance for cheating."
      ]
    },
    {
      "cell_type": "markdown",
      "id": "222f0884",
      "metadata": {
        "id": "222f0884"
      },
      "source": [
        "Note:\n",
        "\n",
        "1. It is recommended to do model training on GPU, you may use [Colab](https://colab.google/) or [Kaggle](https://www.kaggle.com/) for free computing resources for faster training.\n",
        "2. Since free computing resources accessible on [Colab](https://colab.google/) is limited for unsuscribed users for each day, it is recommended to debug on your CPU first."
      ]
    },
    {
      "cell_type": "markdown",
      "id": "ccc14d01",
      "metadata": {
        "id": "ccc14d01"
      },
      "source": [
        "## Task 1: Understanding and conducting convolution (8%)\n",
        "**Subtasks**\n",
        "1. Use numpy to conduct 2D standard convolution operation (4%).\n",
        "2. Use numpy to conduct 2D dilated convolution operation (4%).\n",
        "\n",
        "You may refer to *[\"A guide to convolution arithmetic for deeplearning\"](https://arxiv.org/pdf/1603.07285.pdf)* for details of dilated convolution.\n",
        "\n",
        "In this task, we follow the settings as in the paper:\n",
        "* 2-D discrete convolutions,\n",
        "* square inputs,\n",
        "* square kernel size,\n",
        "* same strides along both axes,\n",
        "* same zero padding along both axes.\n",
        "\n",
        "Score points:\n",
        "1. The implementations are correct.\n",
        "2. The implementation of dilated convolution makes use of the relationship between dilated convolution kernel and standard convolution kernel."
      ]
    },
    {
      "cell_type": "code",
      "execution_count": null,
      "id": "7279fa95",
      "metadata": {
        "id": "7279fa95"
      },
      "outputs": [],
      "source": [
        "import numpy as np"
      ]
    },
    {
      "cell_type": "code",
      "execution_count": null,
      "id": "c0e75e78",
      "metadata": {
        "id": "c0e75e78"
      },
      "outputs": [],
      "source": [
        "def conv2d(inputs,kernels,padding=0, stride=1):\n",
        "    assert inputs.shape[0] == kernels.shape[1], \"The numbers of channels of input and kernel do not match.\"\n",
        "    ##############################################################################\n",
        "    # TODO: conduct convolution calculation based on given inputs, kernels,      #\n",
        "    #       padding and stride values.                                           #\n",
        "    ##############################################################################\n",
        "    # your code\n",
        "\n",
        "    # Get dimensions\n",
        "    input_depth, input_height, input_width = inputs.shape\n",
        "    num_kernels, kernel_depth, kernel_height, kernel_width = kernels.shape\n",
        "\n",
        "    # Compute output dimensions\n",
        "    output_height = (input_height - kernel_height) // stride + 1\n",
        "    output_width = (input_width - kernel_width) // stride + 1\n",
        "\n",
        "    # Initialize output with zeros\n",
        "    outputs = np.zeros((num_kernels, output_height, output_width))\n",
        "\n",
        "    # Perform convolution\n",
        "    for k in range(num_kernels):\n",
        "        for i in range(0, input_height - kernel_height + 1, stride):\n",
        "            for j in range(0, input_width - kernel_width + 1, stride):\n",
        "                outputs[k, output_height - 1 - i // stride, j // stride] = np.sum(\n",
        "                    inputs[:, i:i + kernel_height, j:j + kernel_width] * kernels[k]\n",
        "                )\n",
        "\n",
        "\n",
        "    ##############################################################################\n",
        "    #                             END OF YOUR CODE                               #\n",
        "    ##############################################################################\n",
        "\n",
        "    return outputs"
      ]
    },
    {
      "cell_type": "code",
      "execution_count": null,
      "id": "56dc334c",
      "metadata": {
        "id": "56dc334c"
      },
      "outputs": [],
      "source": [
        "def dilated_conv2d(inputs,kernels,dilation,padding=0,stride=1):\n",
        "    assert inputs.shape[0] == kernels.shape[1], \"The numbers of channels of input and kernel do not match.\"\n",
        "    ##############################################################################\n",
        "    # TODO: conduct dilated convolution calculation based on given inputs,       #\n",
        "    #       kernels, padding and stride values.                                  #\n",
        "    ##############################################################################\n",
        "    # your code\n",
        "    # Extract dimensions\n",
        "    input_depth, input_height, input_width = inputs.shape\n",
        "    num_kernels, kernel_depth, kernel_height, kernel_width = kernels.shape\n",
        "    newkernel_size = dilation * (kernel_height - 1) + 1\n",
        "\n",
        "    # Calculate output dimensions\n",
        "    output_height = (input_height - newkernel_size) // stride + 1\n",
        "    output_width = (input_width - newkernel_size) // stride + 1\n",
        "\n",
        "    # Initialize output array\n",
        "    outputs = np.zeros((num_kernels, output_height, output_width))\n",
        "\n",
        "    # Perform dilated convolution\n",
        "    for k in range(num_kernels):\n",
        "        for i in range(0, input_height - newkernel_size + 1, stride):\n",
        "            for j in range(0, input_width - newkernel_size + 1, stride):\n",
        "                mylist = []\n",
        "                for m in kernels[k]:\n",
        "                    f = np.insert(m, 1, np.array([0, 0]), axis=1)\n",
        "                    mylist.append(f)\n",
        "                arr1 = np.array(mylist)\n",
        "\n",
        "                ls = []\n",
        "                for m in arr1:\n",
        "                    q = np.insert(m, 1, np.array([0, 0, 0]), axis=0)\n",
        "                    ls.append(q)\n",
        "                arr7 = np.array(ls)\n",
        "\n",
        "                outputs[k, output_width - 1 - i // stride, j // stride] = np.sum(\n",
        "                    inputs[:, i:i + newkernel_size, j:j + newkernel_size] * arr7\n",
        "                )\n",
        "\n",
        "    ##############################################################################\n",
        "    #                             END OF YOUR CODE                               #\n",
        "    ##############################################################################\n",
        "\n",
        "    return outputs"
      ]
    },
    {
      "cell_type": "code",
      "execution_count": null,
      "id": "65be16f9",
      "metadata": {
        "colab": {
          "base_uri": "https://localhost:8080/"
        },
        "id": "65be16f9",
        "outputId": "7da2d4be-3843-480c-cf60-e6d85abf127d"
      },
      "outputs": [
        {
          "name": "stdout",
          "output_type": "stream",
          "text": [
            "Inputs:\n",
            "[[[0 2 0 0 0]\n",
            "  [2 1 1 0 2]\n",
            "  [2 0 1 0 1]\n",
            "  [2 2 2 0 2]\n",
            "  [2 1 2 2 0]]\n",
            "\n",
            " [[2 1 2 2 1]\n",
            "  [1 1 2 0 1]\n",
            "  [2 2 2 0 2]\n",
            "  [0 2 1 2 2]\n",
            "  [0 0 1 2 1]]]\n",
            "\n",
            "Kernels:\n",
            "[[[[0 0]\n",
            "   [1 2]]\n",
            "\n",
            "  [[2 0]\n",
            "   [2 0]]]\n",
            "\n",
            "\n",
            " [[[1 1]\n",
            "   [2 2]]\n",
            "\n",
            "  [[0 0]\n",
            "   [0 1]]]\n",
            "\n",
            "\n",
            " [[[1 0]\n",
            "   [1 1]]\n",
            "\n",
            "  [[1 1]\n",
            "   [0 0]]]]\n"
          ]
        }
      ],
      "source": [
        "np.random.seed(2024)\n",
        "inputs = np.random.randint(0,3,size=(2,5,5))\n",
        "kernels = np.random.randint(0,3,size=(3,2,2,2))\n",
        "print(f\"Inputs:\\n{inputs}\\n\")\n",
        "print(f\"Kernels:\\n{kernels}\")"
      ]
    },
    {
      "cell_type": "code",
      "execution_count": null,
      "id": "869672ff",
      "metadata": {
        "colab": {
          "base_uri": "https://localhost:8080/",
          "height": 355
        },
        "id": "869672ff",
        "outputId": "f0da849a-cfe3-4adf-85e2-4ceaff79fda9"
      },
      "outputs": [
        {
          "data": {
            "image/png": "[encoded data removed]",
            "text/plain": [
              "<Figure size 720x360 with 2 Axes>"
            ]
          },
          "metadata": {
            "needs_background": "light"
          },
          "output_type": "display_data"
        }
      ],
      "source": [
        "# visualize inputs\n",
        "import matplotlib.pyplot as plt\n",
        "fig = plt.figure(figsize=(10, 5))\n",
        "for i in range(inputs.shape[0]):\n",
        "    ax = fig.add_subplot(1, inputs.shape[0], i+1, xticks=[], yticks=[])\n",
        "    ax.set_title('Input channel %s' % str(i+1))\n",
        "    ax.set_xticks([])\n",
        "    ax.set_yticks([])\n",
        "    ax.grid(True)\n",
        "    width = inputs[i].shape[0]\n",
        "    height = inputs[i].shape[1]\n",
        "\n",
        "\n",
        "    ax.xaxis.set_major_locator(plt.MaxNLocator(nbins=width))\n",
        "    ax.yaxis.set_major_locator(plt.MaxNLocator(nbins=height))\n",
        "    for x in range(width):\n",
        "        for y in range(height):\n",
        "            ax.annotate(str(inputs[i][x][y]), xy=(y/height+(0.5/height),x/width+(0.5/height)),\n",
        "                        horizontalalignment='center',\n",
        "                        verticalalignment='center')\n"
      ]
    },
    {
      "cell_type": "code",
      "execution_count": null,
      "id": "197b7b25",
      "metadata": {
        "colab": {
          "base_uri": "https://localhost:8080/",
          "height": 760
        },
        "id": "197b7b25",
        "outputId": "9a74d9be-a048-4f6c-9b76-63494d20723c"
      },
      "outputs": [
        {
          "data": {
            "image/png": "[encoded data removed]",
            "text/plain": [
              "<Figure size 720x864 with 6 Axes>"
            ]
          },
          "metadata": {
            "needs_background": "light"
          },
          "output_type": "display_data"
        }
      ],
      "source": [
        "# visualize kernels\n",
        "import matplotlib.pyplot as plt\n",
        "fig = plt.figure(figsize=(10, 12))\n",
        "for i in range(kernels.shape[0]):\n",
        "    for j in range(kernels.shape[1]):\n",
        "        ax = fig.add_subplot(kernels.shape[0], kernels.shape[1], i*kernels.shape[1] + j+1, xticks=[], yticks=[])\n",
        "        ax.set_title(f'kernel {str(i+1)}, channel {str(j+1)}')\n",
        "        ax.set_xticks([])\n",
        "        ax.set_yticks([])\n",
        "        ax.grid(True)\n",
        "        width = kernels[i][j].shape[0]\n",
        "        height = kernels[i][j].shape[1]\n",
        "\n",
        "\n",
        "        ax.xaxis.set_major_locator(plt.MaxNLocator(nbins=width))\n",
        "        ax.yaxis.set_major_locator(plt.MaxNLocator(nbins=height))\n",
        "        for x in range(width):\n",
        "            for y in range(height):\n",
        "                ax.annotate(str(kernels[i][j][x][y]), xy=(y/height+(0.5/height),x/width+(0.5/height)),\n",
        "                            horizontalalignment='center',\n",
        "                            verticalalignment='center')"
      ]
    },
    {
      "cell_type": "code",
      "execution_count": null,
      "id": "f64868dd",
      "metadata": {
        "colab": {
          "base_uri": "https://localhost:8080/"
        },
        "id": "f64868dd",
        "outputId": "2ce8aeb8-ebf3-4f28-c678-ebcdd8c6e8f1"
      },
      "outputs": [
        {
          "data": {
            "text/plain": [
              "array([[[ 4.,  9., 10., 10.],\n",
              "        [10., 14.,  8.,  8.],\n",
              "        [ 8.,  8.,  9.,  2.],\n",
              "        [10.,  7.,  9.,  8.]],\n",
              "\n",
              "       [[10., 11., 12.,  7.],\n",
              "        [12., 10.,  7.,  7.],\n",
              "        [ 9.,  6.,  3.,  6.],\n",
              "        [ 9.,  8.,  2.,  5.]],\n",
              "\n",
              "       [[ 7.,  8.,  9.,  6.],\n",
              "        [10.,  8.,  5.,  4.],\n",
              "        [ 6.,  5.,  4.,  2.],\n",
              "        [ 6.,  7.,  5.,  5.]]])"
            ]
          },
          "execution_count": 7,
          "metadata": {},
          "output_type": "execute_result"
        }
      ],
      "source": [
        "conv2d(inputs,kernels,stride=1)"
      ]
    },
    {
      "cell_type": "code",
      "execution_count": null,
      "id": "7b85f26e",
      "metadata": {
        "colab": {
          "base_uri": "https://localhost:8080/"
        },
        "id": "7b85f26e",
        "outputId": "ce094e04-ecfc-4fc0-b614-e1dbdc2540d6"
      },
      "outputs": [
        {
          "data": {
            "text/plain": [
              "array([[[10.,  9.,  8.],\n",
              "        [ 8.,  8., 12.],\n",
              "        [12.,  6., 11.]],\n",
              "\n",
              "       [[12.,  8.,  7.],\n",
              "        [12.,  7., 13.],\n",
              "        [ 8.,  2.,  6.]],\n",
              "\n",
              "       [[10.,  5.,  7.],\n",
              "        [ 9.,  4.,  8.],\n",
              "        [ 7.,  5.,  5.]]])"
            ]
          },
          "execution_count": 8,
          "metadata": {},
          "output_type": "execute_result"
        }
      ],
      "source": [
        "dilated_conv2d(inputs,kernels,dilation=2)"
      ]
    },
    {
      "cell_type": "markdown",
      "id": "7bb0838d",
      "metadata": {
        "id": "7bb0838d"
      },
      "source": [
        "## Task 2: Building and training a ResNet18 model (52%)\n",
        "**Subtasks**\n",
        "1. Figure out the ResNet18 model architecture and write down the dimension of features of each layer (4%).\n",
        "2. Build a ResNet18 model by PyTorch (20%).\n",
        "3. Complete the codes to evaluate and train the model. (10%)\n",
        "4. Viusalize the training curves (2%).\n",
        "5. Point out a potential problem in the training process (2%), propose possible solutions (4%) to improve and implement **at least ONE** of them (10%).\n",
        "\n",
        "Score points:\n",
        "1. The results for subtask 1 is correct.\n",
        "2. The implementation for subtask 2 is correct.\n",
        "3. The implementation for subtask 2 is also concise, i.e., building the network block by block instead of layer by layer.\n",
        "4.\n",
        "5. The two plots for visualization contain all information of interest, one for loss curves and another for accuracy curves.\n",
        "6. The answers to subtask 5 are reasonable and the implementation is correct.\n"
      ]
    },
    {
      "cell_type": "markdown",
      "id": "0ad4031c",
      "metadata": {
        "id": "0ad4031c"
      },
      "source": [
        "### Prepare packages and dataset"
      ]
    },
    {
      "cell_type": "code",
      "execution_count": 4,
      "id": "9f4bb2d7",
      "metadata": {
        "id": "9f4bb2d7"
      },
      "outputs": [],
      "source": [
        "import torch\n",
        "import torchvision\n",
        "import torchvision.transforms as transforms\n",
        "import torch.nn as nn\n",
        "from torch.nn import functional as F\n",
        "import torch.optim as optim\n",
        "import time"
      ]
    },
    {
      "cell_type": "code",
      "execution_count": 5,
      "id": "91ec7314",
      "metadata": {
        "colab": {
          "base_uri": "https://localhost:8080/"
        },
        "id": "91ec7314",
        "outputId": "d1c8b4ab-f682-40d7-87a6-245499f59da2"
      },
      "outputs": [
        {
          "output_type": "stream",
          "name": "stdout",
          "text": [
            "Files already downloaded and verified\n",
            "Files already downloaded and verified\n",
            "50000\n",
            "10000\n"
          ]
        }
      ],
      "source": [
        "classes = ('plane', 'car', 'bird', 'cat', 'deer', 'dog', 'frog', 'horse', 'ship', 'truck')\n",
        "transform = transforms.Compose(\n",
        "    [transforms.ToTensor(),\n",
        "     transforms.Normalize((0.5, 0.5, 0.5), (0.5, 0.5, 0.5))])\n",
        "\n",
        "train_set = torchvision.datasets.CIFAR10(root='./data', train=True,\n",
        "                                        download=True, transform=transform)\n",
        "\n",
        "test_set = torchvision.datasets.CIFAR10(root='./data', train=False,\n",
        "                                       download=True, transform=transform)\n",
        "\n",
        "train_size = len(train_set)\n",
        "print(train_size)\n",
        "test_size = len(test_set)\n",
        "print(test_size)"
      ]
    },
    {
      "cell_type": "markdown",
      "id": "3cecc458",
      "metadata": {
        "id": "3cecc458"
      },
      "source": [
        "### Define the ResNet18 model\n",
        "\n",
        "Residual Network (ResNet) is a deep learning model widely used for computer vision applications. It is a Convolutional Neural Network (CNN) architecture. ResNet provides an innovative solution to the vanishing gradient problem, known as “residual connections”.\n",
        "\n",
        "ResNet includes multiple \"residual blocks\", each of which contains certain types of layers and residual connections as shown in the figure below.\n",
        "\n",
        "Refer to the paper *[\"Deep Residual Learning for Image Recognition\"](https://arxiv.org/pdf/1512.03385.pdf)* for information about ResNet architecture.\n",
        "\n",
        "Figure out the architecture of ResNet18 and the feature dimension of each layer, considering the input dimension as `(3,32,32)` representing `(C, H, W)`. Write down the architecture and the feature dimension corresponding to each layer in the following markdown cell.\n",
        "\n",
        "Implement to define a ResNet18 model in the following code block.\n",
        "\n",
        "Note that while doing residual connection, if the dimensions of the input and output of the residual block are not the same, we adjust channels and resolution of the input by means of a convolution before adding.\n",
        "\n",
        "![](resnet-block.svg)\n",
        "\n",
        "\n"
      ]
    },
    {
      "cell_type": "markdown",
      "id": "9f6147ce",
      "metadata": {
        "id": "9f6147ce"
      },
      "source": [
        "---\n",
        "**Write down your results of the ResNet18 architecture and specify the feature dimension for each layer.**\n",
        "\n",
        "```\n",
        "\n",
        "```\n",
        "\n",
        "---"
      ]
    },
    {
      "cell_type": "code",
      "execution_count": 6,
      "id": "dcc26789",
      "metadata": {
        "id": "dcc26789"
      },
      "outputs": [],
      "source": [
        "class ResidualBlock(nn.Module):\n",
        "    def __init__(self, input_channels, num_channels,\n",
        "                 strides=1):\n",
        "        '''\n",
        "        input_channels: the number of channels of input x.\n",
        "        num_channels: the number of channels channels of the output of the residual block.\n",
        "        strides: the strides for the first convolutional layer in the residual block,\n",
        "                 note that this is not applied to the second convolutional layer in the residual block.\n",
        "        '''\n",
        "        ##############################################################################\n",
        "        # TO DO: Define a ResidualBlock module as the figure shown above.            #\n",
        "        ##############################################################################\n",
        "        super(ResidualBlock, self).__init__()\n",
        "        self.left = nn.Sequential(\n",
        "            nn.Conv2d(input_channels, num_channels, kernel_size=3, stride=strides, padding=1, bias=False),\n",
        "            nn.BatchNorm2d(num_channels),\n",
        "            nn.ReLU(inplace=True),\n",
        "            nn.Conv2d(num_channels, num_channels, kernel_size=3, stride=1, padding=1, bias=False),\n",
        "            nn.BatchNorm2d(num_channels)\n",
        "        )\n",
        "        self.shortcut = nn.Sequential()\n",
        "        if strides != 1 or input_channels != num_channels:\n",
        "            self.shortcut = nn.Sequential(\n",
        "                nn.Conv2d(input_channels, num_channels, kernel_size=1, stride=strides, bias=False),\n",
        "                nn.BatchNorm2d(num_channels)\n",
        "            )\n",
        "        ##############################################################################\n",
        "        #                             END OF YOUR CODE                               #\n",
        "        ##############################################################################\n",
        "\n",
        "\n",
        "    def forward(self, X):\n",
        "        ##############################################################################\n",
        "        # TO DO: implement the forward path of the ResidualBlock module.             #\n",
        "        ##############################################################################\n",
        "        out = self.left(X)\n",
        "        out += self.shortcut(X)\n",
        "        out = F.relu(out)\n",
        "        return out\n",
        "\n",
        "        ##############################################################################\n",
        "        #                             END OF YOUR CODE                               #\n",
        "        ##############################################################################"
      ]
    },
    {
      "cell_type": "code",
      "execution_count": 7,
      "id": "a7a90980",
      "metadata": {
        "id": "a7a90980"
      },
      "outputs": [],
      "source": [
        "class ResNet18(nn.Module):\n",
        "    ##############################################################################\n",
        "    # TO DO: Define a ResNet18 model and implement its forward path, you may     #\n",
        "    #        also add other functions to this class if necessary.                #\n",
        "    ##############################################################################\n",
        "    # your code\n",
        "    def __init__(self, num_classes=10):\n",
        "        super(ResNet18, self).__init__()\n",
        "        self.input_channels = 64\n",
        "        self.conv1 = nn.Sequential(\n",
        "            nn.Conv2d(3, 64, kernel_size=3, stride=1, padding=1, bias=False),\n",
        "            nn.BatchNorm2d(64),\n",
        "            nn.ReLU(),\n",
        "        )\n",
        "        self.layer1 = self.make_layer(ResidualBlock, 64, 2, stride=1)\n",
        "        self.layer2 = self.make_layer(ResidualBlock, 128, 2, stride=2)\n",
        "        self.layer3 = self.make_layer(ResidualBlock, 256, 2, stride=2)\n",
        "        self.layer4 = self.make_layer(ResidualBlock, 512, 2, stride=2)\n",
        "        self.fc = nn.Linear(512, num_classes)\n",
        "\n",
        "    def make_layer(self, block, channels, num_blocks, stride):\n",
        "        strides = [stride] + [1] * (num_blocks - 1)  # strides=[1,1]\n",
        "        layers = []\n",
        "        for stride in strides:\n",
        "            layers.append(block(self.input_channels, channels, stride))\n",
        "            self.input_channels = channels\n",
        "        return nn.Sequential(*layers)\n",
        "\n",
        "    def forward(self, x):\n",
        "        out = self.conv1(x)\n",
        "        out = self.layer1(out)\n",
        "        out = self.layer2(out)\n",
        "        out = self.layer3(out)\n",
        "        out = self.layer4(out)\n",
        "        out = F.avg_pool2d(out, 4)\n",
        "        out = out.view(out.size(0), -1)\n",
        "        out = self.fc(out)\n",
        "        return out\n",
        "\n",
        "\n",
        "\n",
        "\n",
        "    ##############################################################################\n",
        "    #                             END OF YOUR CODE                               #\n",
        "    ##############################################################################"
      ]
    },
    {
      "cell_type": "code",
      "execution_count": 8,
      "id": "d130b5b1",
      "metadata": {
        "colab": {
          "base_uri": "https://localhost:8080/"
        },
        "id": "d130b5b1",
        "outputId": "6786ef20-5287-48e7-f60a-85580ac404aa"
      },
      "outputs": [
        {
          "output_type": "execute_result",
          "data": {
            "text/plain": [
              "ResNet18(\n",
              "  (conv1): Sequential(\n",
              "    (0): Conv2d(3, 64, kernel_size=(3, 3), stride=(1, 1), padding=(1, 1), bias=False)\n",
              "    (1): BatchNorm2d(64, eps=1e-05, momentum=0.1, affine=True, track_running_stats=True)\n",
              "    (2): ReLU()\n",
              "  )\n",
              "  (layer1): Sequential(\n",
              "    (0): ResidualBlock(\n",
              "      (left): Sequential(\n",
              "        (0): Conv2d(64, 64, kernel_size=(3, 3), stride=(1, 1), padding=(1, 1), bias=False)\n",
              "        (1): BatchNorm2d(64, eps=1e-05, momentum=0.1, affine=True, track_running_stats=True)\n",
              "        (2): ReLU(inplace=True)\n",
              "        (3): Conv2d(64, 64, kernel_size=(3, 3), stride=(1, 1), padding=(1, 1), bias=False)\n",
              "        (4): BatchNorm2d(64, eps=1e-05, momentum=0.1, affine=True, track_running_stats=True)\n",
              "      )\n",
              "      (shortcut): Sequential()\n",
              "    )\n",
              "    (1): ResidualBlock(\n",
              "      (left): Sequential(\n",
              "        (0): Conv2d(64, 64, kernel_size=(3, 3), stride=(1, 1), padding=(1, 1), bias=False)\n",
              "        (1): BatchNorm2d(64, eps=1e-05, momentum=0.1, affine=True, track_running_stats=True)\n",
              "        (2): ReLU(inplace=True)\n",
              "        (3): Conv2d(64, 64, kernel_size=(3, 3), stride=(1, 1), padding=(1, 1), bias=False)\n",
              "        (4): BatchNorm2d(64, eps=1e-05, momentum=0.1, affine=True, track_running_stats=True)\n",
              "      )\n",
              "      (shortcut): Sequential()\n",
              "    )\n",
              "  )\n",
              "  (layer2): Sequential(\n",
              "    (0): ResidualBlock(\n",
              "      (left): Sequential(\n",
              "        (0): Conv2d(64, 128, kernel_size=(3, 3), stride=(2, 2), padding=(1, 1), bias=False)\n",
              "        (1): BatchNorm2d(128, eps=1e-05, momentum=0.1, affine=True, track_running_stats=True)\n",
              "        (2): ReLU(inplace=True)\n",
              "        (3): Conv2d(128, 128, kernel_size=(3, 3), stride=(1, 1), padding=(1, 1), bias=False)\n",
              "        (4): BatchNorm2d(128, eps=1e-05, momentum=0.1, affine=True, track_running_stats=True)\n",
              "      )\n",
              "      (shortcut): Sequential(\n",
              "        (0): Conv2d(64, 128, kernel_size=(1, 1), stride=(2, 2), bias=False)\n",
              "        (1): BatchNorm2d(128, eps=1e-05, momentum=0.1, affine=True, track_running_stats=True)\n",
              "      )\n",
              "    )\n",
              "    (1): ResidualBlock(\n",
              "      (left): Sequential(\n",
              "        (0): Conv2d(128, 128, kernel_size=(3, 3), stride=(1, 1), padding=(1, 1), bias=False)\n",
              "        (1): BatchNorm2d(128, eps=1e-05, momentum=0.1, affine=True, track_running_stats=True)\n",
              "        (2): ReLU(inplace=True)\n",
              "        (3): Conv2d(128, 128, kernel_size=(3, 3), stride=(1, 1), padding=(1, 1), bias=False)\n",
              "        (4): BatchNorm2d(128, eps=1e-05, momentum=0.1, affine=True, track_running_stats=True)\n",
              "      )\n",
              "      (shortcut): Sequential()\n",
              "    )\n",
              "  )\n",
              "  (layer3): Sequential(\n",
              "    (0): ResidualBlock(\n",
              "      (left): Sequential(\n",
              "        (0): Conv2d(128, 256, kernel_size=(3, 3), stride=(2, 2), padding=(1, 1), bias=False)\n",
              "        (1): BatchNorm2d(256, eps=1e-05, momentum=0.1, affine=True, track_running_stats=True)\n",
              "        (2): ReLU(inplace=True)\n",
              "        (3): Conv2d(256, 256, kernel_size=(3, 3), stride=(1, 1), padding=(1, 1), bias=False)\n",
              "        (4): BatchNorm2d(256, eps=1e-05, momentum=0.1, affine=True, track_running_stats=True)\n",
              "      )\n",
              "      (shortcut): Sequential(\n",
              "        (0): Conv2d(128, 256, kernel_size=(1, 1), stride=(2, 2), bias=False)\n",
              "        (1): BatchNorm2d(256, eps=1e-05, momentum=0.1, affine=True, track_running_stats=True)\n",
              "      )\n",
              "    )\n",
              "    (1): ResidualBlock(\n",
              "      (left): Sequential(\n",
              "        (0): Conv2d(256, 256, kernel_size=(3, 3), stride=(1, 1), padding=(1, 1), bias=False)\n",
              "        (1): BatchNorm2d(256, eps=1e-05, momentum=0.1, affine=True, track_running_stats=True)\n",
              "        (2): ReLU(inplace=True)\n",
              "        (3): Conv2d(256, 256, kernel_size=(3, 3), stride=(1, 1), padding=(1, 1), bias=False)\n",
              "        (4): BatchNorm2d(256, eps=1e-05, momentum=0.1, affine=True, track_running_stats=True)\n",
              "      )\n",
              "      (shortcut): Sequential()\n",
              "    )\n",
              "  )\n",
              "  (layer4): Sequential(\n",
              "    (0): ResidualBlock(\n",
              "      (left): Sequential(\n",
              "        (0): Conv2d(256, 512, kernel_size=(3, 3), stride=(2, 2), padding=(1, 1), bias=False)\n",
              "        (1): BatchNorm2d(512, eps=1e-05, momentum=0.1, affine=True, track_running_stats=True)\n",
              "        (2): ReLU(inplace=True)\n",
              "        (3): Conv2d(512, 512, kernel_size=(3, 3), stride=(1, 1), padding=(1, 1), bias=False)\n",
              "        (4): BatchNorm2d(512, eps=1e-05, momentum=0.1, affine=True, track_running_stats=True)\n",
              "      )\n",
              "      (shortcut): Sequential(\n",
              "        (0): Conv2d(256, 512, kernel_size=(1, 1), stride=(2, 2), bias=False)\n",
              "        (1): BatchNorm2d(512, eps=1e-05, momentum=0.1, affine=True, track_running_stats=True)\n",
              "      )\n",
              "    )\n",
              "    (1): ResidualBlock(\n",
              "      (left): Sequential(\n",
              "        (0): Conv2d(512, 512, kernel_size=(3, 3), stride=(1, 1), padding=(1, 1), bias=False)\n",
              "        (1): BatchNorm2d(512, eps=1e-05, momentum=0.1, affine=True, track_running_stats=True)\n",
              "        (2): ReLU(inplace=True)\n",
              "        (3): Conv2d(512, 512, kernel_size=(3, 3), stride=(1, 1), padding=(1, 1), bias=False)\n",
              "        (4): BatchNorm2d(512, eps=1e-05, momentum=0.1, affine=True, track_running_stats=True)\n",
              "      )\n",
              "      (shortcut): Sequential()\n",
              "    )\n",
              "  )\n",
              "  (fc): Linear(in_features=512, out_features=10, bias=True)\n",
              ")"
            ]
          },
          "metadata": {},
          "execution_count": 8
        }
      ],
      "source": [
        "model = ResNet18()\n",
        "model"
      ]
    },
    {
      "cell_type": "markdown",
      "id": "85a9c109",
      "metadata": {
        "id": "85a9c109"
      },
      "source": [
        "### Train the model"
      ]
    },
    {
      "cell_type": "code",
      "execution_count": 9,
      "id": "ba956d73",
      "metadata": {
        "id": "ba956d73"
      },
      "outputs": [],
      "source": [
        "# Hyperparameters\n",
        "epochs = 10\n",
        "batch_size = 256\n",
        "learning_rate = 0.1\n",
        "\n",
        "# Set up optimizer\n",
        "optimizer = optim.SGD(model.parameters(), lr=learning_rate)\n",
        "\n",
        "# Define loss function\n",
        "criterion = torch.nn.CrossEntropyLoss()\n",
        "\n",
        "# Build data loaders\n",
        "train_loader = torch.utils.data.DataLoader(train_set, batch_size=batch_size, shuffle=True, num_workers=0)\n",
        "test_loader = torch.utils.data.DataLoader(test_set, batch_size=batch_size, shuffle=False, num_workers=0)\n",
        "data_loaders = {\"train\": train_loader, \"test\": test_loader}\n",
        "dataset_sizes = {\"train\": train_size, \"test\": test_size}"
      ]
    },
    {
      "cell_type": "markdown",
      "id": "94c40ce7",
      "metadata": {
        "id": "94c40ce7"
      },
      "source": [
        "Write a functions to evaluate the model on testing set and train the model for one epoch in the following code block."
      ]
    },
    {
      "cell_type": "code",
      "execution_count": 10,
      "id": "b53d0326",
      "metadata": {
        "id": "b53d0326"
      },
      "outputs": [],
      "source": [
        "def eval_on_test_set(model):\n",
        "    model.eval()\n",
        "    device = torch.cuda.current_device() if torch.cuda.is_available() else \"cpu\"\n",
        "    model.to(device)\n",
        "    running_accuracy = 0\n",
        "    loss=0\n",
        "\n",
        "    for data in test_loader:\n",
        "        ##############################################################################\n",
        "        # TODO: Implement the evaluation process on test set.                        #\n",
        "        ##############################################################################\n",
        "        # your code\n",
        "        inputs, labels = data\n",
        "        inputs, labels = inputs.to(device), labels.to(device)\n",
        "        outputs = model(inputs)\n",
        "\n",
        "        loss += criterion(outputs, labels).item()\n",
        "        _, predicted = torch.max(outputs, 1)\n",
        "        running_accuracy += (predicted == labels).sum().item()\n",
        "\n",
        "        ##############################################################################\n",
        "        #                             END OF YOUR CODE                               #\n",
        "        ##############################################################################\n",
        "    total_loss=loss/test_size\n",
        "    total_accuracy = running_accuracy / test_size\n",
        "    print('Evaluation  on test set: loss{:.3f} \\t accuracy = {:.2f}%'.format(total_loss, total_accuracy * 100))\n",
        "    model.train()\n",
        "    return total_loss, total_accuracy"
      ]
    },
    {
      "cell_type": "code",
      "execution_count": 11,
      "id": "462aea7e",
      "metadata": {
        "id": "462aea7e"
      },
      "outputs": [],
      "source": [
        "def train_for_one_epoch(model):\n",
        "    model.train()\n",
        "    # Set up device\n",
        "    device = torch.cuda.current_device() if torch.cuda.is_available() else \"cpu\"\n",
        "    print(f\"Using device {device} to train the model.\")\n",
        "    model.to(device)\n",
        "\n",
        "    # set the running quatities to zero at the beginning of the epoch\n",
        "    running_loss = 0\n",
        "    running_accuracy = 0\n",
        "\n",
        "    for data in train_loader:\n",
        "        ##############################################################################\n",
        "        # TODO: Implement the training process for one epoch.                        #\n",
        "        ##############################################################################\n",
        "        # your code\n",
        "        inputs, labels = data\n",
        "        inputs, labels = inputs.to(device), labels.to(device)\n",
        "        optimizer.zero_grad()\n",
        "\n",
        "        # forward + backward\n",
        "        outputs = model(inputs)\n",
        "        loss = criterion(outputs, labels)\n",
        "        loss.backward()\n",
        "        optimizer.step()\n",
        "\n",
        "        running_loss += loss.item()\n",
        "        _, predicted = torch.max(outputs.data, 1)\n",
        "        running_accuracy += (predicted == labels).sum().item()\n",
        "\n",
        "\n",
        "        ##############################################################################\n",
        "        #                             END OF YOUR CODE                               #\n",
        "        ##############################################################################\n",
        "\n",
        "    # Compute stats for the full training set\n",
        "    total_loss = running_loss / train_size\n",
        "    total_accuracy = running_accuracy / train_size\n",
        "\n",
        "    return total_loss, total_accuracy"
      ]
    },
    {
      "cell_type": "code",
      "execution_count": 9,
      "id": "ffabe5b1",
      "metadata": {
        "colab": {
          "base_uri": "https://localhost:8080/"
        },
        "id": "ffabe5b1",
        "outputId": "834a188c-33dd-43bf-8380-87b3f99911a1"
      },
      "outputs": [
        {
          "output_type": "stream",
          "name": "stdout",
          "text": [
            "Using device 0 to train the model.\n",
            "Training epoch= 0 \t cost_time= 0.85 min \t loss= 0.007 \t accuracy= 39.07%\n",
            "Evaluation  on test set: loss0.009 \t accuracy = 36.79%\n",
            "Using device 0 to train the model.\n",
            "Training epoch= 1 \t cost_time= 0.82 min \t loss= 0.004 \t accuracy= 60.08%\n",
            "Evaluation  on test set: loss0.006 \t accuracy = 51.49%\n",
            "Using device 0 to train the model.\n",
            "Training epoch= 2 \t cost_time= 0.82 min \t loss= 0.003 \t accuracy= 71.79%\n",
            "Evaluation  on test set: loss0.008 \t accuracy = 44.70%\n",
            "Using device 0 to train the model.\n",
            "Training epoch= 3 \t cost_time= 0.82 min \t loss= 0.002 \t accuracy= 79.78%\n",
            "Evaluation  on test set: loss0.004 \t accuracy = 65.00%\n",
            "Using device 0 to train the model.\n",
            "Training epoch= 4 \t cost_time= 0.81 min \t loss= 0.002 \t accuracy= 85.79%\n",
            "Evaluation  on test set: loss0.005 \t accuracy = 65.39%\n",
            "Using device 0 to train the model.\n",
            "Training epoch= 5 \t cost_time= 0.82 min \t loss= 0.001 \t accuracy= 90.48%\n",
            "Evaluation  on test set: loss0.009 \t accuracy = 51.75%\n",
            "Using device 0 to train the model.\n",
            "Training epoch= 6 \t cost_time= 0.82 min \t loss= 0.001 \t accuracy= 94.61%\n",
            "Evaluation  on test set: loss0.004 \t accuracy = 72.83%\n",
            "Using device 0 to train the model.\n",
            "Training epoch= 7 \t cost_time= 0.82 min \t loss= 0.000 \t accuracy= 97.37%\n",
            "Evaluation  on test set: loss0.027 \t accuracy = 33.84%\n",
            "Using device 0 to train the model.\n",
            "Training epoch= 8 \t cost_time= 0.82 min \t loss= 0.000 \t accuracy= 97.81%\n",
            "Evaluation  on test set: loss0.005 \t accuracy = 72.63%\n",
            "Using device 0 to train the model.\n",
            "Training epoch= 9 \t cost_time= 0.82 min \t loss= 0.000 \t accuracy= 99.16%\n",
            "Evaluation  on test set: loss0.004 \t accuracy = 79.39%\n"
          ]
        }
      ],
      "source": [
        "# start training\n",
        "\n",
        "metrics = {\"train_loss\":[], \"train_acc\":[], \"test_loss\":[], \"test_acc\":[]}\n",
        "for epoch in range(epochs):\n",
        "  start=time.time()\n",
        "  train_loss_epoch, train_acc_epoch = train_for_one_epoch(model)\n",
        "  elapsed = (time.time()-start) / 60\n",
        "  print('Training epoch= {} \\t cost_time= {:.2f} min \\t loss= {:.3f} \\t accuracy= {:.2f}%'.format(epoch, elapsed, train_loss_epoch, train_acc_epoch * 100))\n",
        "  test_loss_epoch, test_acc_epoch = eval_on_test_set(model)\n",
        "  metrics['train_loss'].append(train_loss_epoch)\n",
        "  metrics['train_acc'].append(train_acc_epoch)\n",
        "  metrics['test_loss'].append(test_loss_epoch)\n",
        "  metrics['test_acc'].append(test_acc_epoch)\n",
        "\n",
        "# save your trained model for the following question\n",
        "torch.save(model.state_dict(), './model_resnet18.pt')"
      ]
    },
    {
      "cell_type": "markdown",
      "id": "0bf18256",
      "metadata": {
        "id": "0bf18256"
      },
      "source": [
        "Visualize the training curves for loss and accuracy in the following code block. Your figure should include two subplots, one for loss curves on training and testing sets, and another for accuracy curves on training and testing sets."
      ]
    },
    {
      "cell_type": "code",
      "execution_count": 10,
      "id": "0h001tQKPq_w",
      "metadata": {
        "id": "0h001tQKPq_w",
        "colab": {
          "base_uri": "https://localhost:8080/",
          "height": 507
        },
        "outputId": "24c6c842-5a7b-49b2-8c54-7d689d0786ca"
      },
      "outputs": [
        {
          "output_type": "display_data",
          "data": {
            "text/plain": [
              "<Figure size 1000x500 with 2 Axes>"
            ],
            "image/png": "[encoded data removed]"
          },
          "metadata": {}
        }
      ],
      "source": [
        "###############################################################################\n",
        "# TODO: Visualize the loss curves and accuracy curves on training and         #\n",
        "#       testing sets respectively during training.                            #\n",
        "###############################################################################\n",
        "\n",
        "# your code\n",
        "import matplotlib.pyplot as plt\n",
        "\n",
        "plt.figure(figsize=(10, 5))\n",
        "\n",
        "# Plot loss curves\n",
        "plt.subplot(1, 2, 1)\n",
        "plt.plot(metrics['train_loss'], label='Train')\n",
        "plt.plot(metrics['test_loss'], label='Test')\n",
        "plt.title('Loss Curves')\n",
        "plt.xlabel('Epoch')\n",
        "plt.ylabel('Loss')\n",
        "plt.legend()\n",
        "\n",
        "# Plot accuracy curves\n",
        "plt.subplot(1, 2, 2)\n",
        "plt.plot(metrics['train_acc'], label='Train')\n",
        "plt.plot(metrics['test_acc'], label='Test')\n",
        "plt.title('Accuracy Curves')\n",
        "plt.xlabel('Epoch')\n",
        "plt.ylabel('Accuracy')\n",
        "plt.legend()\n",
        "\n",
        "plt.tight_layout()\n",
        "plt.show()\n",
        "\n",
        "##############################################################################\n",
        "#                             END OF YOUR CODE                               #\n",
        "##############################################################################"
      ]
    },
    {
      "cell_type": "markdown",
      "id": "iG9yxN-VReRW",
      "metadata": {
        "id": "iG9yxN-VReRW"
      },
      "source": [
        "### Improve the ResNet18 trained above\n"
      ]
    },
    {
      "cell_type": "markdown",
      "id": "jQdHY3bgVqEf",
      "metadata": {
        "id": "jQdHY3bgVqEf"
      },
      "source": [
        "Observe the loss and accuracy curves during training and testing respectively, what potential problem can be concluded if continue training the model for further epochs most probably? What kind of techniques can be applied to solve this problem?"
      ]
    },
    {
      "cell_type": "markdown",
      "id": "KRhf5vVOVtMj",
      "metadata": {
        "id": "KRhf5vVOVtMj"
      },
      "source": [
        "---\n",
        "**Write your observations and analysis in this Markdown cell:**\n",
        "\n",
        "\n",
        "```\n",
        "```\n",
        "\n",
        "\n",
        "---"
      ]
    },
    {
      "cell_type": "markdown",
      "id": "BSaYUOtQRsNC",
      "metadata": {
        "id": "BSaYUOtQRsNC"
      },
      "source": [
        "Please choose one technique you mentioned above and implement it, retrain the model, observe and report the loss and accuracy again (10%)."
      ]
    },
    {
      "cell_type": "code",
      "execution_count": 13,
      "id": "QLxc7yGKRwv5",
      "metadata": {
        "id": "QLxc7yGKRwv5",
        "colab": {
          "base_uri": "https://localhost:8080/",
          "height": 332
        },
        "outputId": "db51eb59-cad9-4c50-f140-f41e7ec16b33"
      },
      "outputs": [
        {
          "output_type": "error",
          "ename": "TypeError",
          "evalue": "super(type, obj): obj must be an instance or subtype of type",
          "traceback": [
            "\u001b[0;31m---------------------------------------------------------------------------\u001b[0m",
            "\u001b[0;31mTypeError\u001b[0m                                 Traceback (most recent call last)",
            "\u001b[0;32m<ipython-input-13-6abbf4392cfd>\u001b[0m in \u001b[0;36m<cell line: 66>\u001b[0;34m()\u001b[0m\n\u001b[1;32m     64\u001b[0m         \u001b[0;32mreturn\u001b[0m \u001b[0mout\u001b[0m\u001b[0;34m\u001b[0m\u001b[0;34m\u001b[0m\u001b[0m\n\u001b[1;32m     65\u001b[0m \u001b[0;34m\u001b[0m\u001b[0m\n\u001b[0;32m---> 66\u001b[0;31m \u001b[0mmodel\u001b[0m \u001b[0;34m=\u001b[0m \u001b[0mResNet18New\u001b[0m\u001b[0;34m(\u001b[0m\u001b[0mdropout_prob\u001b[0m\u001b[0;34m=\u001b[0m\u001b[0;36m0.5\u001b[0m\u001b[0;34m)\u001b[0m\u001b[0;34m\u001b[0m\u001b[0;34m\u001b[0m\u001b[0m\n\u001b[0m\u001b[1;32m     67\u001b[0m \u001b[0;34m\u001b[0m\u001b[0m\n\u001b[1;32m     68\u001b[0m \u001b[0mmetrics\u001b[0m \u001b[0;34m=\u001b[0m \u001b[0;34m{\u001b[0m\u001b[0;34m\"train_loss\"\u001b[0m\u001b[0;34m:\u001b[0m \u001b[0;34m[\u001b[0m\u001b[0;34m]\u001b[0m\u001b[0;34m,\u001b[0m \u001b[0;34m\"train_acc\"\u001b[0m\u001b[0;34m:\u001b[0m \u001b[0;34m[\u001b[0m\u001b[0;34m]\u001b[0m\u001b[0;34m,\u001b[0m \u001b[0;34m\"test_loss\"\u001b[0m\u001b[0;34m:\u001b[0m \u001b[0;34m[\u001b[0m\u001b[0;34m]\u001b[0m\u001b[0;34m,\u001b[0m \u001b[0;34m\"test_acc\"\u001b[0m\u001b[0;34m:\u001b[0m \u001b[0;34m[\u001b[0m\u001b[0;34m]\u001b[0m\u001b[0;34m}\u001b[0m\u001b[0;34m\u001b[0m\u001b[0;34m\u001b[0m\u001b[0m\n",
            "\u001b[0;32m<ipython-input-13-6abbf4392cfd>\u001b[0m in \u001b[0;36m__init__\u001b[0;34m(self, dropout_prob)\u001b[0m\n\u001b[1;32m     34\u001b[0m \u001b[0;32mclass\u001b[0m \u001b[0mResNet18New\u001b[0m\u001b[0;34m(\u001b[0m\u001b[0mnn\u001b[0m\u001b[0;34m.\u001b[0m\u001b[0mModule\u001b[0m\u001b[0;34m)\u001b[0m\u001b[0;34m:\u001b[0m\u001b[0;34m\u001b[0m\u001b[0;34m\u001b[0m\u001b[0m\n\u001b[1;32m     35\u001b[0m     \u001b[0;32mdef\u001b[0m \u001b[0m__init__\u001b[0m\u001b[0;34m(\u001b[0m\u001b[0mself\u001b[0m\u001b[0;34m,\u001b[0m \u001b[0mdropout_prob\u001b[0m\u001b[0;34m=\u001b[0m\u001b[0;36m0.5\u001b[0m\u001b[0;34m)\u001b[0m\u001b[0;34m:\u001b[0m\u001b[0;34m\u001b[0m\u001b[0;34m\u001b[0m\u001b[0m\n\u001b[0;32m---> 36\u001b[0;31m         \u001b[0msuper\u001b[0m\u001b[0;34m(\u001b[0m\u001b[0mResNet18\u001b[0m\u001b[0;34m,\u001b[0m \u001b[0mself\u001b[0m\u001b[0;34m)\u001b[0m\u001b[0;34m.\u001b[0m\u001b[0m__init__\u001b[0m\u001b[0;34m(\u001b[0m\u001b[0;34m)\u001b[0m\u001b[0;34m\u001b[0m\u001b[0;34m\u001b[0m\u001b[0m\n\u001b[0m\u001b[1;32m     37\u001b[0m         \u001b[0mself\u001b[0m\u001b[0;34m.\u001b[0m\u001b[0mconv1\u001b[0m \u001b[0;34m=\u001b[0m \u001b[0mnn\u001b[0m\u001b[0;34m.\u001b[0m\u001b[0mConv2d\u001b[0m\u001b[0;34m(\u001b[0m\u001b[0;36m3\u001b[0m\u001b[0;34m,\u001b[0m \u001b[0;36m64\u001b[0m\u001b[0;34m,\u001b[0m \u001b[0mkernel_size\u001b[0m\u001b[0;34m=\u001b[0m\u001b[0;36m3\u001b[0m\u001b[0;34m,\u001b[0m \u001b[0mstride\u001b[0m\u001b[0;34m=\u001b[0m\u001b[0;36m1\u001b[0m\u001b[0;34m,\u001b[0m \u001b[0mpadding\u001b[0m\u001b[0;34m=\u001b[0m\u001b[0;36m1\u001b[0m\u001b[0;34m,\u001b[0m \u001b[0mbias\u001b[0m\u001b[0;34m=\u001b[0m\u001b[0;32mFalse\u001b[0m\u001b[0;34m)\u001b[0m\u001b[0;34m\u001b[0m\u001b[0;34m\u001b[0m\u001b[0m\n\u001b[1;32m     38\u001b[0m         \u001b[0mself\u001b[0m\u001b[0;34m.\u001b[0m\u001b[0mbn1\u001b[0m \u001b[0;34m=\u001b[0m \u001b[0mnn\u001b[0m\u001b[0;34m.\u001b[0m\u001b[0mBatchNorm2d\u001b[0m\u001b[0;34m(\u001b[0m\u001b[0;36m64\u001b[0m\u001b[0;34m)\u001b[0m\u001b[0;34m\u001b[0m\u001b[0;34m\u001b[0m\u001b[0m\n",
            "\u001b[0;31mTypeError\u001b[0m: super(type, obj): obj must be an instance or subtype of type"
          ]
        }
      ],
      "source": [
        "##############################################################################\n",
        "# TODO: Choose a technique to improve your model.                            #\n",
        "##############################################################################\n",
        "\n",
        "# your code\n",
        "class ResidualBlock(nn.Module):\n",
        "    def __init__(self, input_channels, num_channels, strides=1, dropout_prob=0.5):\n",
        "        super(ResidualBlock, self).__init__()\n",
        "        self.conv1 = nn.Conv2d(input_channels, num_channels, kernel_size=3, stride=strides, padding=1, bias=False)\n",
        "        self.bn1 = nn.BatchNorm2d(num_channels)\n",
        "        self.relu = nn.ReLU(inplace=True)\n",
        "        self.dropout = nn.Dropout(dropout_prob)  # Add dropout layer\n",
        "        self.conv2 = nn.Conv2d(num_channels, num_channels, kernel_size=3, stride=1, padding=1, bias=False)\n",
        "        self.bn2 = nn.BatchNorm2d(num_channels)\n",
        "        self.downsample = nn.Sequential()\n",
        "        if strides != 1 or input_channels != num_channels:\n",
        "            self.downsample = nn.Sequential(\n",
        "                nn.Conv2d(input_channels, num_channels, kernel_size=1, stride=strides, bias=False),\n",
        "                nn.BatchNorm2d(num_channels)\n",
        "            )\n",
        "\n",
        "    def forward(self, X):\n",
        "        out = self.conv1(X)\n",
        "        out = self.bn1(out)\n",
        "        out = self.relu(out)\n",
        "        out = self.dropout(out)  # Apply dropout\n",
        "        out = self.conv2(out)\n",
        "        out = self.bn2(out)\n",
        "        out += self.downsample(X)\n",
        "        out = self.relu(out)\n",
        "        return out\n",
        "\n",
        "\n",
        "class ResNet18New(nn.Module):\n",
        "    def __init__(self, dropout_prob=0.5):\n",
        "        super(ResNet18, self).__init__()\n",
        "        self.conv1 = nn.Conv2d(3, 64, kernel_size=3, stride=1, padding=1, bias=False)\n",
        "        self.bn1 = nn.BatchNorm2d(64)\n",
        "        self.relu = nn.ReLU(inplace=True)\n",
        "        self.layer1 = self.make_layer(64, 2, 2, dropout_prob)  # Pass dropout_prob\n",
        "        self.layer2 = self.make_layer(128, 2, 2, dropout_prob)\n",
        "        self.layer3 = self.make_layer(256, 2, 2, dropout_prob)\n",
        "        self.layer4 = self.make_layer(512, 2, 2, dropout_prob)\n",
        "        self.avg_pool = nn.AdaptiveAvgPool2d((1, 1))\n",
        "        self.fc = nn.Linear(512, 10)\n",
        "\n",
        "    def make_layer(self, num_channels, num_residuals, strides):\n",
        "        layers = []\n",
        "        for i in range(num_residuals):\n",
        "            layers.append(ResidualBlock(num_channels, num_channels, strides if i == 0 else 1))\n",
        "        return nn.Sequential(*layers)\n",
        "\n",
        "    def forward(self, X):\n",
        "        out = self.conv1(X)\n",
        "        out = self.bn1(out)\n",
        "        out = self.relu(out)\n",
        "        out = self.layer1(out)\n",
        "        out = self.layer2(out)\n",
        "        out = self.layer3(out)\n",
        "        out = self.layer4(out)\n",
        "        out = self.avg_pool(out)\n",
        "        out = out.view(out.size(0), -1)\n",
        "        out = self.fc(out)\n",
        "        return out\n",
        "\n",
        "model = ResNet18New(dropout_prob=0.5)\n",
        "\n",
        "metrics = {\"train_loss\": [], \"train_acc\": [], \"test_loss\": [], \"test_acc\": []}\n",
        "\n",
        "for epoch in range(epochs):\n",
        "    start = time.time()\n",
        "    train_loss_epoch, train_acc_epoch = train_for_one_epoch(model)\n",
        "    elapsed = (time.time() - start) / 60\n",
        "    print('Training epoch= {} \\t cost_time= {:.2f} min \\t loss= {:.3f} \\t accuracy= {:.2f}%'.format(epoch, elapsed, train_loss_epoch, train_acc_epoch * 100))\n",
        "    test_loss_epoch, test_acc_epoch = eval_on_test_set(model)\n",
        "    metrics['train_loss'].append(train_loss_epoch)\n",
        "    metrics['train_acc'].append(train_acc_epoch)\n",
        "    metrics['test_loss'].append(test_loss_epoch)\n",
        "    metrics['test_acc'].append(test_acc_epoch)\n",
        "\n",
        "# Visualize training curves\n",
        "plt.figure(figsize=(10, 5))\n",
        "\n",
        "# Plot loss curves\n",
        "plt.subplot(1, 2, 1)\n",
        "plt.plot(metrics['train_loss'], label='Train')\n",
        "plt.plot(metrics['test_loss'], label='Test')\n",
        "plt.title('Loss Curves')\n",
        "plt.xlabel('Epoch')\n",
        "plt.ylabel('Loss')\n",
        "plt.legend()\n",
        "\n",
        "# Plot accuracy curves\n",
        "plt.subplot(1, 2, 2)\n",
        "plt.plot(metrics['train_acc'], label='Train')\n",
        "plt.plot(metrics['test_acc'], label='Test')\n",
        "plt.title('Accuracy Curves')\n",
        "plt.xlabel('Epoch')\n",
        "plt.ylabel('Accuracy')\n",
        "plt.legend()\n",
        "\n",
        "plt.tight_layout()\n",
        "plt.show()\n",
        "\n",
        "\n",
        "##############################################################################\n",
        "#                             END OF YOUR CODE                               #\n",
        "##############################################################################"
      ]
    },
    {
      "cell_type": "markdown",
      "id": "EpPWdAT_R16F",
      "metadata": {
        "id": "EpPWdAT_R16F"
      },
      "source": [
        "---\n",
        "**Write your observations and analysis in this Markdown cell:**\n",
        "\n",
        "```In this example, dropout is added to each residual block with a dropout probability of 0.5. You can adjust the dropout probability and experiment with other hyperparameters to find the optimal configuration for your specific problem. After making these changes, retrain the model and observe the loss and accuracy curves. If successful, dropout should help prevent overfitting and improve the model's generalization performance.\n",
        "\n",
        "```\n",
        "---"
      ]
    },
    {
      "cell_type": "markdown",
      "id": "3e084bfd",
      "metadata": {
        "id": "3e084bfd"
      },
      "source": [
        "## Task 3: Exploring and explaining the trained model (40%)\n",
        "\n",
        "**Subtasks:**\n",
        "\n",
        "1. Visualize the representations for bottom and top layers by t-SNE, compare and make conclusion (6%).\n",
        "2. Compute saliency map and answer the question about it (6%).\n",
        "3. Compute improved saliency map by SMOOTHGRAD and answer the question about the comparison between the saliency map in subtask 2 and SMOOTHGRAD (10%).\n",
        "4. Design and conduct experiment to explain how CNN works using SMOOTHGRAD (12%).\n",
        "5. Given a model, generate fooling image based on an original image and a target label to fool. Write down the observations from the result (6%).\n",
        "\n",
        "Score points:\n",
        "1. For subtask 1, recognize the correct layers of insterest, extract corresponding intermediate features and make reasonable conclusion.\n",
        "2. For subtask 2, the implementation is correct and as concise as possible and the question is correctly answered.\n",
        "3. For subtask 3, the implementation is correct and as concise as possible and the question is correctly answered.\n",
        "4. For subtask 4, the experiment is reasonably designed and appropriately conducted.\n",
        "5. For subtask 5, the implementation is correct and observation is reasonable.\n",
        "\n",
        "**Note: for task 3, just use the model trained and saved in task 2 part \"define the ResNet18 model\" instead of your improved model in task 2 part \"improve the ResNet18\".**"
      ]
    },
    {
      "cell_type": "markdown",
      "id": "Y875npg6WpU0",
      "metadata": {
        "id": "Y875npg6WpU0"
      },
      "source": [
        "### Load the trained ResNet18 model above."
      ]
    },
    {
      "cell_type": "code",
      "execution_count": 12,
      "id": "377794e5",
      "metadata": {
        "colab": {
          "base_uri": "https://localhost:8080/"
        },
        "id": "377794e5",
        "outputId": "04bb4877-f5e8-437b-c197-1651a75036ef"
      },
      "outputs": [
        {
          "output_type": "execute_result",
          "data": {
            "text/plain": [
              "ResNet18(\n",
              "  (conv1): Sequential(\n",
              "    (0): Conv2d(3, 64, kernel_size=(3, 3), stride=(1, 1), padding=(1, 1), bias=False)\n",
              "    (1): BatchNorm2d(64, eps=1e-05, momentum=0.1, affine=True, track_running_stats=True)\n",
              "    (2): ReLU()\n",
              "  )\n",
              "  (layer1): Sequential(\n",
              "    (0): ResidualBlock(\n",
              "      (left): Sequential(\n",
              "        (0): Conv2d(64, 64, kernel_size=(3, 3), stride=(1, 1), padding=(1, 1), bias=False)\n",
              "        (1): BatchNorm2d(64, eps=1e-05, momentum=0.1, affine=True, track_running_stats=True)\n",
              "        (2): ReLU(inplace=True)\n",
              "        (3): Conv2d(64, 64, kernel_size=(3, 3), stride=(1, 1), padding=(1, 1), bias=False)\n",
              "        (4): BatchNorm2d(64, eps=1e-05, momentum=0.1, affine=True, track_running_stats=True)\n",
              "      )\n",
              "      (shortcut): Sequential()\n",
              "    )\n",
              "    (1): ResidualBlock(\n",
              "      (left): Sequential(\n",
              "        (0): Conv2d(64, 64, kernel_size=(3, 3), stride=(1, 1), padding=(1, 1), bias=False)\n",
              "        (1): BatchNorm2d(64, eps=1e-05, momentum=0.1, affine=True, track_running_stats=True)\n",
              "        (2): ReLU(inplace=True)\n",
              "        (3): Conv2d(64, 64, kernel_size=(3, 3), stride=(1, 1), padding=(1, 1), bias=False)\n",
              "        (4): BatchNorm2d(64, eps=1e-05, momentum=0.1, affine=True, track_running_stats=True)\n",
              "      )\n",
              "      (shortcut): Sequential()\n",
              "    )\n",
              "  )\n",
              "  (layer2): Sequential(\n",
              "    (0): ResidualBlock(\n",
              "      (left): Sequential(\n",
              "        (0): Conv2d(64, 128, kernel_size=(3, 3), stride=(2, 2), padding=(1, 1), bias=False)\n",
              "        (1): BatchNorm2d(128, eps=1e-05, momentum=0.1, affine=True, track_running_stats=True)\n",
              "        (2): ReLU(inplace=True)\n",
              "        (3): Conv2d(128, 128, kernel_size=(3, 3), stride=(1, 1), padding=(1, 1), bias=False)\n",
              "        (4): BatchNorm2d(128, eps=1e-05, momentum=0.1, affine=True, track_running_stats=True)\n",
              "      )\n",
              "      (shortcut): Sequential(\n",
              "        (0): Conv2d(64, 128, kernel_size=(1, 1), stride=(2, 2), bias=False)\n",
              "        (1): BatchNorm2d(128, eps=1e-05, momentum=0.1, affine=True, track_running_stats=True)\n",
              "      )\n",
              "    )\n",
              "    (1): ResidualBlock(\n",
              "      (left): Sequential(\n",
              "        (0): Conv2d(128, 128, kernel_size=(3, 3), stride=(1, 1), padding=(1, 1), bias=False)\n",
              "        (1): BatchNorm2d(128, eps=1e-05, momentum=0.1, affine=True, track_running_stats=True)\n",
              "        (2): ReLU(inplace=True)\n",
              "        (3): Conv2d(128, 128, kernel_size=(3, 3), stride=(1, 1), padding=(1, 1), bias=False)\n",
              "        (4): BatchNorm2d(128, eps=1e-05, momentum=0.1, affine=True, track_running_stats=True)\n",
              "      )\n",
              "      (shortcut): Sequential()\n",
              "    )\n",
              "  )\n",
              "  (layer3): Sequential(\n",
              "    (0): ResidualBlock(\n",
              "      (left): Sequential(\n",
              "        (0): Conv2d(128, 256, kernel_size=(3, 3), stride=(2, 2), padding=(1, 1), bias=False)\n",
              "        (1): BatchNorm2d(256, eps=1e-05, momentum=0.1, affine=True, track_running_stats=True)\n",
              "        (2): ReLU(inplace=True)\n",
              "        (3): Conv2d(256, 256, kernel_size=(3, 3), stride=(1, 1), padding=(1, 1), bias=False)\n",
              "        (4): BatchNorm2d(256, eps=1e-05, momentum=0.1, affine=True, track_running_stats=True)\n",
              "      )\n",
              "      (shortcut): Sequential(\n",
              "        (0): Conv2d(128, 256, kernel_size=(1, 1), stride=(2, 2), bias=False)\n",
              "        (1): BatchNorm2d(256, eps=1e-05, momentum=0.1, affine=True, track_running_stats=True)\n",
              "      )\n",
              "    )\n",
              "    (1): ResidualBlock(\n",
              "      (left): Sequential(\n",
              "        (0): Conv2d(256, 256, kernel_size=(3, 3), stride=(1, 1), padding=(1, 1), bias=False)\n",
              "        (1): BatchNorm2d(256, eps=1e-05, momentum=0.1, affine=True, track_running_stats=True)\n",
              "        (2): ReLU(inplace=True)\n",
              "        (3): Conv2d(256, 256, kernel_size=(3, 3), stride=(1, 1), padding=(1, 1), bias=False)\n",
              "        (4): BatchNorm2d(256, eps=1e-05, momentum=0.1, affine=True, track_running_stats=True)\n",
              "      )\n",
              "      (shortcut): Sequential()\n",
              "    )\n",
              "  )\n",
              "  (layer4): Sequential(\n",
              "    (0): ResidualBlock(\n",
              "      (left): Sequential(\n",
              "        (0): Conv2d(256, 512, kernel_size=(3, 3), stride=(2, 2), padding=(1, 1), bias=False)\n",
              "        (1): BatchNorm2d(512, eps=1e-05, momentum=0.1, affine=True, track_running_stats=True)\n",
              "        (2): ReLU(inplace=True)\n",
              "        (3): Conv2d(512, 512, kernel_size=(3, 3), stride=(1, 1), padding=(1, 1), bias=False)\n",
              "        (4): BatchNorm2d(512, eps=1e-05, momentum=0.1, affine=True, track_running_stats=True)\n",
              "      )\n",
              "      (shortcut): Sequential(\n",
              "        (0): Conv2d(256, 512, kernel_size=(1, 1), stride=(2, 2), bias=False)\n",
              "        (1): BatchNorm2d(512, eps=1e-05, momentum=0.1, affine=True, track_running_stats=True)\n",
              "      )\n",
              "    )\n",
              "    (1): ResidualBlock(\n",
              "      (left): Sequential(\n",
              "        (0): Conv2d(512, 512, kernel_size=(3, 3), stride=(1, 1), padding=(1, 1), bias=False)\n",
              "        (1): BatchNorm2d(512, eps=1e-05, momentum=0.1, affine=True, track_running_stats=True)\n",
              "        (2): ReLU(inplace=True)\n",
              "        (3): Conv2d(512, 512, kernel_size=(3, 3), stride=(1, 1), padding=(1, 1), bias=False)\n",
              "        (4): BatchNorm2d(512, eps=1e-05, momentum=0.1, affine=True, track_running_stats=True)\n",
              "      )\n",
              "      (shortcut): Sequential()\n",
              "    )\n",
              "  )\n",
              "  (fc): Linear(in_features=512, out_features=10, bias=True)\n",
              ")"
            ]
          },
          "metadata": {},
          "execution_count": 12
        }
      ],
      "source": [
        "import torch\n",
        "import numpy as np\n",
        "from sklearn.manifold import TSNE\n",
        "import matplotlib.pyplot as plt\n",
        "from tqdm import tqdm\n",
        "import matplotlib.cm as cm\n",
        "import torch.nn as nn\n",
        "import os\n",
        "\n",
        "trained_model = ResNet18()\n",
        "assert os.path.exists('./model_resnet18.pt'), 'train the model first'\n",
        "# Load the model trained and saved in task 2 part \"define the ResNet18 model\"\n",
        "trained_model.load_state_dict(torch.load('./model_resnet18.pt', map_location=torch.device('cpu')))\n",
        "\n",
        "device = torch.cuda.current_device() if torch.cuda.is_available() else 'cpu'\n",
        "trained_model.to(device)\n",
        "trained_model.eval()"
      ]
    },
    {
      "cell_type": "markdown",
      "id": "7jIOMxcocHIU",
      "metadata": {
        "id": "7jIOMxcocHIU"
      },
      "source": [
        "### Visualize the learned features for the trained ResNet18 of different layers of model.\n",
        "\n",
        "t-SNE (t-distributed Stochastic Neighbor Embedding) is an unsupervised non-linear dimensionality reduction technique for data exploration and visualizing high-dimensional data. Here, you shall apply t-SNE to the features extracted from a bottom layer and a top layer of the trained ResNet18 model.\n",
        "\n",
        "You should complete:\n",
        "* 1) extract features for the bottom layer and top layer respectively, i.e., the intermediate outputs of these layers.\n",
        "* 2) if the extracted features are in form of feature maps, reshape the feature map for each sample to make it a vector.\n",
        "* 3) visualize the features for the bottom and top layers by t-SNE, observe and analyze the results.\n",
        "\n",
        "The bottom layer is defined as the first max-pooling layer of the whole model; the top layer is defined as the penultimate layer of the whole model. (We refer to the input side as \"bottom\" and the output side as \"top\".)"
      ]
    },
    {
      "cell_type": "code",
      "execution_count": null,
      "id": "OGK1bzp8cUD2",
      "metadata": {
        "colab": {
          "base_uri": "https://localhost:8080/"
        },
        "id": "OGK1bzp8cUD2",
        "outputId": "d7f1443d-dac5-4a42-b55c-067680079fff"
      },
      "outputs": [
        {
          "output_type": "stream",
          "name": "stderr",
          "text": [
            "Extracting Features:  86%|████████▌ | 428/500 [00:39<00:04, 16.18it/s]"
          ]
        }
      ],
      "source": [
        "##############################################################################\n",
        "# TO DO: Extract intermediate features of the top and bottom layers          #\n",
        "#        based on your ResNet18 model.                                       #\n",
        "##############################################################################\n",
        "# your code\n",
        "# Function to extract intermediate features from the model\n",
        "def extract_features(model, layer_names, data_loader):\n",
        "    features = {name: [] for name in layer_names}\n",
        "\n",
        "    hooks = []\n",
        "    def hook_fn(name):\n",
        "        def hook(module, input, output):\n",
        "            features[name].append(output.cpu().detach().numpy())\n",
        "        return hook\n",
        "\n",
        "    for name in layer_names:\n",
        "        layer = dict([*model.named_modules()])[name]\n",
        "        hook = layer.register_forward_hook(hook_fn(name))\n",
        "        hooks.append(hook)\n",
        "\n",
        "    for data in tqdm(data_loader, desc='Extracting Features'):\n",
        "        inputs, _ = data\n",
        "        inputs = inputs.to(device)\n",
        "        _ = model(inputs)\n",
        "\n",
        "    for hook in hooks:\n",
        "        hook.remove()\n",
        "\n",
        "    return {name: np.vstack(feats) for name, feats in features.items()}\n",
        "\n",
        "# Extract features from bottom and top layers\n",
        "bottom_layer_name = 'layer1'  # Assuming the first max-pooling layer is part of 'layer1'\n",
        "top_layer_name = 'fc'\n",
        "\n",
        "train_loader_for_features = torch.utils.data.DataLoader(train_set, batch_size=100, shuffle=True, num_workers=0)\n",
        "\n",
        "features_bottom = extract_features(trained_model, [bottom_layer_name], train_loader_for_features)\n",
        "features_top = extract_features(trained_model, [top_layer_name], train_loader_for_features)\n",
        "\n",
        "# Reshape the feature map for each sample to make it a vector\n",
        "features_bottom_vector = features_bottom[bottom_layer_name].reshape(features_bottom[bottom_layer_name].shape[0], -1)\n",
        "features_top_vector = features_top[top_layer_name]\n",
        "\n",
        "##############################################################################\n",
        "#                             END OF YOUR CODE                               #\n",
        "##############################################################################\n",
        "\n",
        "features_top = np.array(features_top) # (10000,512)\n",
        "print(features_top.shape)\n",
        "features_bottom = np.array(features_bottom) # (10000,4096)\n",
        "print(features_bottom.shape)\n",
        "colors_per_class = cm.rainbow(np.linspace(0, 1, 11))\n",
        "\n",
        "# Apply t-SNE to the features\n",
        "features_top_tsne = TSNE(n_components=2, init='pca', random_state=42).fit_transform(features_top)\n",
        "features_bottom_tsne = TSNE(n_components=2, init='pca', random_state=42).fit_transform(features_bottom)\n",
        "\n",
        "# Plot the t-SNE visualization\n",
        "plt.figure(figsize=(20, 8))\n",
        "\n",
        "plt.subplot(1,2,1)\n",
        "plt.title('Bottom Layer')\n",
        "for label in np.unique(labels):\n",
        "    plt.scatter(features_bottom_tsne[labels == label, 0], features_bottom_tsne[labels == label, 1], label=classes[label], s=5)\n",
        "plt.legend()\n",
        "plt.subplot(1,2,2)\n",
        "plt.title('Top Layer')\n",
        "for label in np.unique(labels):\n",
        "    plt.scatter(features_top_tsne[labels == label, 0], features_top_tsne[labels == label, 1], label=classes[label], s=5)\n",
        "plt.legend()\n",
        "plt.gcf().tight_layout()\n",
        "\n",
        "plt.show()"
      ]
    },
    {
      "cell_type": "markdown",
      "id": "lv6rpKnWb9a1",
      "metadata": {
        "id": "lv6rpKnWb9a1"
      },
      "source": [
        "---\n",
        "**Write your observations and analysis in this Markdown cell:**\n",
        "\n",
        "```This code extracts intermediate features from the specified bottom and top layers, reshapes the feature map for each sample to make it a vector, and then applies t-SNE for visualization. The resulting t-SNE plots show the distribution of features in the 2D space for the bottom and top layers.\n",
        "\n",
        "```\n",
        "\n",
        "---"
      ]
    },
    {
      "cell_type": "markdown",
      "id": "3b115708",
      "metadata": {
        "id": "3b115708"
      },
      "source": [
        "### Compute saliency map.\n",
        "\n",
        "A saliency map tells us the degree to which each pixel in the image affects the classification score for that image. To compute it, we compute the gradient of the unnormalized score corresponding to the correct class (which is a scalar) with respect to the pixels of the image.\n",
        "\n",
        "Read and understand the paper below, figure out how to compute saliency maps and implement it in the `compute_saliency_maps` function.\n",
        "\n",
        "[Karen Simonyan, Andrea Vedaldi, and Andrew Zisserman. \"Deep Inside Convolutional Networks: Visualising Image Classification Models and Saliency Maps\", ICLR Workshop 2014.](https://arxiv.org/pdf/1312.6034.pdf)"
      ]
    },
    {
      "cell_type": "code",
      "execution_count": 13,
      "id": "fnQbAiU2OaGr",
      "metadata": {
        "id": "fnQbAiU2OaGr"
      },
      "outputs": [],
      "source": [
        "### helper function\n",
        "\n",
        "def show_saliency_maps(X, y, saliency):\n",
        "    # Compute saliency maps for images in X\n",
        "\n",
        "    # Convert the saliency map from Torch Tensor to numpy array and show images\n",
        "    # and saliency maps together.\n",
        "    if saliency.dim() == 4:\n",
        "      saliency = saliency.permute(0, 2, 3, 1).numpy()\n",
        "    elif saliency.dim() == 3:\n",
        "      saliency = saliency.numpy()\n",
        "    N = X.shape[0]\n",
        "    for i in range(N):\n",
        "        plt.subplot(2, N, i + 1)\n",
        "        img = np.transpose((X.detach()/2+0.5).numpy(),(0,2,3,1))\n",
        "        plt.imshow(img[i])\n",
        "        plt.axis('off')\n",
        "        plt.title(classes[y.detach().numpy()[i]])\n",
        "        plt.subplot(2, N, N + i + 1)\n",
        "        plt.imshow(saliency[i], cmap=plt.cm.hot)\n",
        "        plt.axis('off')\n",
        "        plt.gcf().set_size_inches(12, 5)\n",
        "    plt.show()\n"
      ]
    },
    {
      "cell_type": "code",
      "execution_count": 14,
      "id": "mlZRGEkCTiKO",
      "metadata": {
        "colab": {
          "base_uri": "https://localhost:8080/",
          "height": 252
        },
        "id": "mlZRGEkCTiKO",
        "outputId": "0189965a-a652-4049-f678-48560f59b74a"
      },
      "outputs": [
        {
          "output_type": "display_data",
          "data": {
            "text/plain": [
              "<Figure size 640x480 with 1 Axes>"
            ],
            "image/png": "[encoded data removed]"
          },
          "metadata": {}
        },
        {
          "output_type": "stream",
          "name": "stdout",
          "text": [
            "truck\tdeer \tplane\n"
          ]
        }
      ],
      "source": [
        "### example images for saliency map and SmoothGrad visualization\n",
        "\n",
        "def imshow(img):\n",
        "    img = img / 2 + 0.5     # unnormalize\n",
        "    npimg = img.numpy()\n",
        "    plt.imshow(np.transpose(npimg, (1, 2, 0)))\n",
        "    plt.show()\n",
        "\n",
        "# get some random training images\n",
        "dataiter = iter(test_loader)\n",
        "images,labels = next(dataiter)\n",
        "X = images[-3:,:,:,:]\n",
        "y = labels[-3:]\n",
        "\n",
        "# show images\n",
        "imshow(torchvision.utils.make_grid(X))\n",
        "print('\\t'.join(f'{classes[y[j]]:5s}' for j in range(3)))"
      ]
    },
    {
      "cell_type": "code",
      "execution_count": 15,
      "id": "ckR-ky3riDiU",
      "metadata": {
        "id": "ckR-ky3riDiU"
      },
      "outputs": [],
      "source": [
        "def compute_saliency_maps(X, y, model):\n",
        "    \"\"\"\n",
        "    Compute a class saliency map using the model for images X and labels y.\n",
        "\n",
        "    Input:\n",
        "    - X: Input images; Tensor of shape (N, 3, H, W)\n",
        "    - y: Labels for X; Tensor of shape (N,)\n",
        "    - model: A pretrained CNN that will be used to compute the saliency map.\n",
        "\n",
        "    Returns:\n",
        "    - saliency: A Tensor of shape (N, H, W) giving the saliency maps for the input\n",
        "    images.\n",
        "    \"\"\"\n",
        "    # Make sure the model is in \"test\" mode\n",
        "    model.eval()\n",
        "\n",
        "    ##############################################################################\n",
        "    # TODO: Implement this function. Perform a forward and backward pass through #\n",
        "    # the model to compute the gradient of the correct class score with respect  #\n",
        "    # to each input image.                                                       #\n",
        "    ##############################################################################\n",
        "    # your code\n",
        "    # Set the requires_grad attribute of the input image to True,\n",
        "    # to compute gradients with respect to it\n",
        "    X.requires_grad_()\n",
        "\n",
        "    # Forward pass\n",
        "    scores = model(X)\n",
        "    scores = scores.gather(1, y.view(-1, 1)).squeeze()\n",
        "\n",
        "    # Backward pass to compute gradients\n",
        "    scores.backward(torch.ones_like(scores))\n",
        "\n",
        "    # Get the gradients from the image\n",
        "    saliency = X.grad.abs()\n",
        "\n",
        "    # Squeeze the saliency map to remove singleton dimensions\n",
        "    saliency = saliency.squeeze(1)\n",
        "\n",
        "    # Normalize the saliency map\n",
        "    saliency = F.relu(saliency - saliency.min())\n",
        "    saliency /= saliency.max()\n",
        "\n",
        "    ##############################################################################\n",
        "    #                             END OF YOUR CODE                               #\n",
        "    ##############################################################################\n",
        "    return saliency"
      ]
    },
    {
      "cell_type": "code",
      "execution_count": 16,
      "id": "d3oASx0dtoNH",
      "metadata": {
        "colab": {
          "base_uri": "https://localhost:8080/",
          "height": 444
        },
        "id": "d3oASx0dtoNH",
        "outputId": "9ea5aa6a-bdd4-4f59-b5d9-f719416b9ad6"
      },
      "outputs": [
        {
          "output_type": "display_data",
          "data": {
            "text/plain": [
              "<Figure size 1200x500 with 6 Axes>"
            ],
            "image/png": "[encoded data removed]"
          },
          "metadata": {}
        }
      ],
      "source": [
        "saliency = compute_saliency_maps(X.to(device), y.to(device), trained_model)\n",
        "show_saliency_maps(X, y, saliency.cpu())"
      ]
    },
    {
      "cell_type": "markdown",
      "id": "NBzR2FDKqAo3",
      "metadata": {
        "id": "NBzR2FDKqAo3"
      },
      "source": [
        "In order to find an image that maximizes the correct score, we can perform gradient ascent on the input image, can we use the saliency map instead of the gradient we in each step to update the image. Is this assertion true? Why or why not?\n",
        "\n",
        "---\n",
        "**Write your answer and reason in this Markdown cell.**\n",
        "\n",
        "---\n",
        "\n",
        "```No, the assertion is not entirely true. While the saliency map highlights regions of the input image that have a high influence on the classification score, it may not be suitable for direct use in gradient ascent to maximize the correct score. The saliency map is computed with respect to the current classification score, and using it directly may not lead to meaningful results.\n",
        "\n",
        "The saliency map is computed based on the gradient of the correct class score with respect to the input image. However, the saliency map itself does not provide information about how to modify the input image to increase the correct score. Gradient ascent involves making small updates to the input image in the direction that increases the score, and the gradient itself serves as a guide for these updates.\n",
        "\n",
        "In contrast, the saliency map indicates the importance of each pixel with regard to the current classification score. Directly updating the image based on the saliency map may not guarantee an increase in the score, as it lacks information about the direction and magnitude of the change needed to achieve this increase.\n",
        "\n",
        "To find an image that maximizes the correct score, you would typically perform gradient ascent on the input image using the gradient of the correct class score with respect to the image. This process involves iteratively updating the input image in the direction that increases the score, guided by the gradient information.\n",
        "\n",
        "```"
      ]
    },
    {
      "cell_type": "markdown",
      "id": "-TE9IaG0iD7E",
      "metadata": {
        "id": "-TE9IaG0iD7E"
      },
      "source": [
        "### Obtain improved visualiztion results by SmoothGrad.\n",
        "\n",
        "SmoothGrad is a method that can help visually sharpen gradient-based saliency maps thus improve the visulization quality. *[\"SmoothGrad: removing noise by adding noise\", ICML2017.](https://arxiv.org/pdf/1706.03825.pdf)*\n",
        "\n",
        "\n",
        "Read and understand the paper, implement SmoothGrad and apply **at least ONE** visualization technique mentioned in the paper in the following code block to get better results.\n",
        "\n",
        "You may also refer to this [blog](https://medium.com/@ML-STATS/reducing-noise-and-improving-interpretability-in-cnns-a-technical-review-of-the-smoothgrad-method-da648ee830c6) for concise illustration for SmoothGrad.\n"
      ]
    },
    {
      "cell_type": "code",
      "execution_count": 17,
      "id": "y87Z85cvpLa_",
      "metadata": {
        "id": "y87Z85cvpLa_",
        "colab": {
          "base_uri": "https://localhost:8080/",
          "height": 106
        },
        "outputId": "ada611eb-8860-4b57-a3c7-97fd56885bde"
      },
      "outputs": [
        {
          "output_type": "error",
          "ename": "IndentationError",
          "evalue": "unexpected indent (<ipython-input-17-d52d906924e4>, line 54)",
          "traceback": [
            "\u001b[0;36m  File \u001b[0;32m\"<ipython-input-17-d52d906924e4>\"\u001b[0;36m, line \u001b[0;32m54\u001b[0m\n\u001b[0;31m    smoothgrad = (smoothgrad - smoothgrad.min()) / (smoothgrad.max() - smoothgrad.min())\u001b[0m\n\u001b[0m    ^\u001b[0m\n\u001b[0;31mIndentationError\u001b[0m\u001b[0;31m:\u001b[0m unexpected indent\n"
          ]
        }
      ],
      "source": [
        "from torch.autograd import Variable\n",
        "def compute_smoothgrad(X, y, model, num_samples=50, stdev_spread=0.15):\n",
        "    \"\"\"\n",
        "    Compute smoothed gradients for images in X given model\n",
        "\n",
        "    Inputs:\n",
        "    - X: Input images; Tensor of shape (N, 3, H, W)\n",
        "    - y: Labels for X; Tensor of shape (N,)\n",
        "    - model: A pretrained CNN that will be used to compute gradients; see\n",
        "      the torchvision library\n",
        "    - num_samples: An integer; the number of gradient samples to compute for each\n",
        "      input in X.\n",
        "    - stdev_spread: A float; the standard deviation of the Gaussians used to\n",
        "      smooth the gradients.\n",
        "\n",
        "    Returns:\n",
        "    - smoothgrad: saliency: A Tensor of shape (N, 3, H, W) giving the smoothed saliency maps for the input\n",
        "    images.\n",
        "    \"\"\"\n",
        "\n",
        "    # Make sure the model is in \"test\" mode\n",
        "    model.eval()\n",
        "\n",
        "    ################################################################################\n",
        "    # TODO: Implement this function. Calculate SmoothGrad (smoothed saliency maps) #\n",
        "    #       based on the given parameters for this function.                       #\n",
        "    ################################################################################\n",
        "    # your code\n",
        "        # Initialize tensor to store the accumulated gradients\n",
        "    smoothgrad = 0\n",
        "\n",
        "    for _ in range(num_samples):\n",
        "        noise = torch.randn_like(X) * stdev_spread\n",
        "        perturbed_X = X + noise\n",
        "        perturbed_X.requires_grad_()\n",
        "\n",
        "        scores = model(perturbed_X)\n",
        "        scores = scores.gather(1, y.view(-1, 1)).squeeze()\n",
        "\n",
        "        scores.backward(torch.ones_like(scores))\n",
        "\n",
        "        smoothgrad += perturbed_X.grad.abs()\n",
        "\n",
        "    smoothgrad /= num_samples\n",
        "\n",
        "    # Average the accumulated gradients over the number of samples\n",
        "    smoothgrad /= num_samples\n",
        "\n",
        "\n",
        "    ##############################################################################\n",
        "    #                             END OF YOUR CODE                               #\n",
        "    ##############################################################################\n",
        "\n",
        "      smoothgrad = (smoothgrad - smoothgrad.min()) / (smoothgrad.max() - smoothgrad.min())\n",
        "    return smoothgrad\n",
        "\n"
      ]
    },
    {
      "cell_type": "code",
      "execution_count": 18,
      "id": "KQqh_Ek5Mccz",
      "metadata": {
        "colab": {
          "base_uri": "https://localhost:8080/",
          "height": 158
        },
        "id": "KQqh_Ek5Mccz",
        "outputId": "ca2b5bed-070d-44f2-fd51-2fc2f260ceeb"
      },
      "outputs": [
        {
          "output_type": "error",
          "ename": "NameError",
          "evalue": "name 'compute_smoothgrad' is not defined",
          "traceback": [
            "\u001b[0;31m---------------------------------------------------------------------------\u001b[0m",
            "\u001b[0;31mNameError\u001b[0m                                 Traceback (most recent call last)",
            "\u001b[0;32m<ipython-input-18-48ff22300798>\u001b[0m in \u001b[0;36m<cell line: 1>\u001b[0;34m()\u001b[0m\n\u001b[0;32m----> 1\u001b[0;31m \u001b[0msmoothgrad\u001b[0m \u001b[0;34m=\u001b[0m \u001b[0mcompute_smoothgrad\u001b[0m\u001b[0;34m(\u001b[0m\u001b[0mX\u001b[0m\u001b[0;34m.\u001b[0m\u001b[0mto\u001b[0m\u001b[0;34m(\u001b[0m\u001b[0mdevice\u001b[0m\u001b[0;34m)\u001b[0m\u001b[0;34m,\u001b[0m \u001b[0my\u001b[0m\u001b[0;34m.\u001b[0m\u001b[0mto\u001b[0m\u001b[0;34m(\u001b[0m\u001b[0mdevice\u001b[0m\u001b[0;34m)\u001b[0m\u001b[0;34m,\u001b[0m \u001b[0mtrained_model\u001b[0m\u001b[0;34m)\u001b[0m\u001b[0;34m\u001b[0m\u001b[0;34m\u001b[0m\u001b[0m\n\u001b[0m\u001b[1;32m      2\u001b[0m \u001b[0mshow_saliency_maps\u001b[0m\u001b[0;34m(\u001b[0m\u001b[0mX\u001b[0m\u001b[0;34m,\u001b[0m \u001b[0my\u001b[0m\u001b[0;34m,\u001b[0m \u001b[0msmoothgrad\u001b[0m\u001b[0;34m.\u001b[0m\u001b[0mcpu\u001b[0m\u001b[0;34m(\u001b[0m\u001b[0;34m)\u001b[0m\u001b[0;34m)\u001b[0m\u001b[0;34m\u001b[0m\u001b[0;34m\u001b[0m\u001b[0m\n",
            "\u001b[0;31mNameError\u001b[0m: name 'compute_smoothgrad' is not defined"
          ]
        }
      ],
      "source": [
        "smoothgrad = compute_smoothgrad(X.to(device), y.to(device), trained_model)\n",
        "show_saliency_maps(X, y, smoothgrad.cpu())"
      ]
    },
    {
      "cell_type": "markdown",
      "id": "V4HQKHuyU6pG",
      "metadata": {
        "id": "V4HQKHuyU6pG"
      },
      "source": [
        "Compare the results of saliency map and SmoothGrad, what is your discovery? Try to understand the papers to give a reason for the phenomenon."
      ]
    },
    {
      "cell_type": "markdown",
      "id": "0xrm4anOU0yF",
      "metadata": {
        "id": "0xrm4anOU0yF"
      },
      "source": [
        "---\n",
        "\n",
        "**Write your observations and analysis in this Markdown cell:**\n",
        "\n",
        "---\n",
        "\n",
        "``` SmoothGrad tends to provide a more visually stable and less noisy saliency map compared to the regular saliency map. This can be particularly evident in regions where the saliency map exhibits high-frequency noise or false positives.\n",
        "\n",
        "The reason behind this improvement lies in the nature of the gradient computation. When you add random noise to the input image and compute the gradient multiple times, the noise tends to cancel out during the averaging process. As a result, the final saliency map becomes more robust and less sensitive to small perturbations in the input image. This can help in focusing on the true discriminative features and reducing the impact of irrelevant details or noise.\n",
        "\n",
        "In summary, SmoothGrad introduces a form of regularization by adding noise during the gradient computation, leading to a more stable and interpretable visualization of the model's attention on input features.\n",
        "\n",
        "```"
      ]
    },
    {
      "cell_type": "markdown",
      "id": "80U7JYr7S62Z",
      "metadata": {
        "id": "80U7JYr7S62Z"
      },
      "source": [
        "### Design and conduct experiment  to explore and explain how CNN works.\n",
        "\n",
        "Design and conduct one experiment beyond the example images above by utilizing ```compute_smoothgrad```, e.g., compare the SmoothGrad maps of different classes given the same model, compare the SmoothGrad maps of the same class for different models, etc. Please quanlitatively show some evidence (e.g., plotting some examplar images clearly and elegantly) with necessary code snippets, write down your observations and briefly explain.\n",
        "\n",
        "For the experiment you design, please specify:\n",
        "1. What question do you intend to study?\n",
        "2. To study the proposed question, how do you design your experiment?\n",
        "3. What conclusion do you make from the experiment results?"
      ]
    },
    {
      "cell_type": "code",
      "execution_count": 19,
      "id": "X_dX5HbNToJv",
      "metadata": {
        "id": "X_dX5HbNToJv",
        "colab": {
          "base_uri": "https://localhost:8080/",
          "height": 332
        },
        "outputId": "b1cf2c64-bd77-4780-be12-836662ad389d"
      },
      "outputs": [
        {
          "output_type": "error",
          "ename": "NameError",
          "evalue": "name 'compute_smoothgrad' is not defined",
          "traceback": [
            "\u001b[0;31m---------------------------------------------------------------------------\u001b[0m",
            "\u001b[0;31mNameError\u001b[0m                                 Traceback (most recent call last)",
            "\u001b[0;32m<ipython-input-19-dcd50a1822b0>\u001b[0m in \u001b[0;36m<cell line: 46>\u001b[0;34m()\u001b[0m\n\u001b[1;32m     44\u001b[0m \u001b[0;34m\u001b[0m\u001b[0m\n\u001b[1;32m     45\u001b[0m \u001b[0;31m# Visualize SmoothGrad maps for different classes\u001b[0m\u001b[0;34m\u001b[0m\u001b[0;34m\u001b[0m\u001b[0m\n\u001b[0;32m---> 46\u001b[0;31m \u001b[0mvisualize_smoothgrad_by_class\u001b[0m\u001b[0;34m(\u001b[0m\u001b[0mmodel\u001b[0m\u001b[0;34m,\u001b[0m \u001b[0mzip\u001b[0m\u001b[0;34m(\u001b[0m\u001b[0mX_set\u001b[0m\u001b[0;34m,\u001b[0m \u001b[0my_set\u001b[0m\u001b[0;34m)\u001b[0m\u001b[0;34m)\u001b[0m\u001b[0;34m\u001b[0m\u001b[0;34m\u001b[0m\u001b[0m\n\u001b[0m\u001b[1;32m     47\u001b[0m \u001b[0;34m\u001b[0m\u001b[0m\n\u001b[1;32m     48\u001b[0m \u001b[0;34m\u001b[0m\u001b[0m\n",
            "\u001b[0;32m<ipython-input-19-dcd50a1822b0>\u001b[0m in \u001b[0;36mvisualize_smoothgrad_by_class\u001b[0;34m(model, data_loader, num_samples)\u001b[0m\n\u001b[1;32m     14\u001b[0m \u001b[0;34m\u001b[0m\u001b[0m\n\u001b[1;32m     15\u001b[0m         \u001b[0;31m# Compute SmoothGrad maps\u001b[0m\u001b[0;34m\u001b[0m\u001b[0;34m\u001b[0m\u001b[0m\n\u001b[0;32m---> 16\u001b[0;31m         \u001b[0msmoothgrad\u001b[0m \u001b[0;34m=\u001b[0m \u001b[0mcompute_smoothgrad\u001b[0m\u001b[0;34m(\u001b[0m\u001b[0mimages\u001b[0m\u001b[0;34m,\u001b[0m \u001b[0mlabels\u001b[0m\u001b[0;34m,\u001b[0m \u001b[0mmodel\u001b[0m\u001b[0;34m)\u001b[0m\u001b[0;34m\u001b[0m\u001b[0;34m\u001b[0m\u001b[0m\n\u001b[0m\u001b[1;32m     17\u001b[0m \u001b[0;34m\u001b[0m\u001b[0m\n\u001b[1;32m     18\u001b[0m         \u001b[0;31m# Show original image\u001b[0m\u001b[0;34m\u001b[0m\u001b[0;34m\u001b[0m\u001b[0m\n",
            "\u001b[0;31mNameError\u001b[0m: name 'compute_smoothgrad' is not defined"
          ]
        }
      ],
      "source": [
        "##############################################################################\n",
        "# TO DO: Design and conduct your experiment.                                 #\n",
        "##############################################################################\n",
        "# your code\n",
        "# Function to visualize SmoothGrad maps for different classes\n",
        "def visualize_smoothgrad_by_class(model, data_loader, num_samples=5):\n",
        "    model.eval()\n",
        "\n",
        "    for i, (images, labels) in enumerate(data_loader):\n",
        "        if i >= num_samples:\n",
        "            break\n",
        "\n",
        "        images, labels = images.to(device), labels.to(device)\n",
        "\n",
        "        # Compute SmoothGrad maps\n",
        "        smoothgrad = compute_smoothgrad(images, labels, model)\n",
        "\n",
        "        # Show original image\n",
        "        plt.figure(figsize=(15, 4))\n",
        "        plt.subplot(1, len(classes) + 1, 1)\n",
        "        plt.imshow(np.transpose((images[0].detach() / 2 + 0.5).cpu().numpy(), (1, 2, 0)))\n",
        "        plt.title(f\"Original\\nClass: {classes[labels[0]]}\")\n",
        "        plt.axis('off')\n",
        "\n",
        "        # Show SmoothGrad maps for each class\n",
        "        for j in range(len(classes)):\n",
        "            plt.subplot(1, len(classes) + 1, j + 2)\n",
        "            plt.imshow(smoothgrad[0, j].cpu().numpy(), cmap=plt.cm.hot)\n",
        "            plt.title(f\"Class: {classes[j]}\")\n",
        "            plt.axis('off')\n",
        "\n",
        "        plt.show()\n",
        "\n",
        "# Select a pretrained model (e.g., ResNet18)\n",
        "model = ResNet18()\n",
        "model.load_state_dict(torch.load('./model_resnet18.pt', map_location=torch.device('cpu')))\n",
        "model.to(device)\n",
        "\n",
        "# Choose a set of images from different classes\n",
        "dataiter = iter(test_loader)\n",
        "images, labels = next(dataiter)\n",
        "X_set = images[:5]\n",
        "y_set = labels[:5]\n",
        "\n",
        "# Visualize SmoothGrad maps for different classes\n",
        "visualize_smoothgrad_by_class(model, zip(X_set, y_set))\n",
        "\n",
        "\n",
        "##############################################################################\n",
        "#                             END OF YOUR CODE                               #\n",
        "##############################################################################"
      ]
    },
    {
      "cell_type": "markdown",
      "id": "hOwuKz6-UcX2",
      "metadata": {
        "id": "hOwuKz6-UcX2"
      },
      "source": [
        "---\n",
        "\n",
        "**Write your observations and analysis in this Markdown cell:**\n",
        "\n",
        "---\n",
        "\n",
        "```Select a pretrained CNN model (e.g., ResNet18) and load it.\n",
        "Choose a set of images from different classes.\n",
        "Compute SmoothGrad maps for each image in the set, focusing on the differences between classes.\n",
        "Visualize and compare the SmoothGrad maps for each class.\n",
        "\n",
        "```"
      ]
    },
    {
      "cell_type": "markdown",
      "id": "77141694",
      "metadata": {
        "id": "77141694"
      },
      "source": [
        "### Fooling image\n",
        "We can also use image gradients to generate \"fooling images\", that is, given an image and a target class, we can perform gradient ascent over the image to maximize the target class, stopping when the network classifies the image as the target class. Implement the following function to generate fooling images."
      ]
    },
    {
      "cell_type": "code",
      "execution_count": 20,
      "id": "1be6ca2e",
      "metadata": {
        "id": "1be6ca2e"
      },
      "outputs": [],
      "source": [
        "def make_fooling_image(X, target_y, model):\n",
        "    \"\"\"\n",
        "    Generate a fooling image that is close to X, but that the model classifies\n",
        "    as target_y.\n",
        "\n",
        "    Inputs:\n",
        "    - X: Input image; Tensor of shape (1, 3, H, W)\n",
        "    - target_y: An integer in the range [0, 10)\n",
        "    - model: A pretrained CNN\n",
        "\n",
        "    Returns:\n",
        "    - X_fooling: An image that is close to X, but that is classifed as target_y\n",
        "    by the model.\n",
        "    \"\"\"\n",
        "    # Initialize our fooling image to the input image, and make it require gradient\n",
        "    X_fooling = X.clone()\n",
        "    X_fooling = X_fooling.requires_grad_()\n",
        "\n",
        "    learning_rate = 1\n",
        "    ##############################################################################\n",
        "    # TODO: Generate a fooling image X_fooling that the model will classify as   #\n",
        "    # the class target_y. You should perform gradient ascent on the score of the #\n",
        "    # target class, stopping when the model is fooled.                           #\n",
        "    # When computing an update step, first normalize the gradient:               #\n",
        "    #   dX = learning_rate * g / ||g||_2                                         #\n",
        "    #                                                                            #\n",
        "    # You should write a training loop.                                          #\n",
        "    #                                                                            #\n",
        "    # HINT: For most examples, you should be able to generate a fooling image    #\n",
        "    # in fewer than 100 iterations of gradient ascent.                           #\n",
        "    # You can print your progress over iterations to check your algorithm.       #\n",
        "    ##############################################################################\n",
        "\n",
        "    # your code\n",
        "    # Number of iterations for gradient ascent\n",
        "    num_iterations = 100\n",
        "\n",
        "    for i in range(num_iterations):\n",
        "        scores = model(X_fooling)\n",
        "        target_score = scores[0, target_y]\n",
        "\n",
        "        # Perform backward pass to compute gradients\n",
        "        target_score.backward()\n",
        "\n",
        "        # Calculate normalized gradient\n",
        "        gradient = X_fooling.grad.data\n",
        "        normalized_gradient = gradient / torch.norm(gradient)\n",
        "\n",
        "        # Update the fooling image\n",
        "        X_fooling.data += learning_rate * normalized_gradient\n",
        "\n",
        "        # Zero out the gradients for the next iteration\n",
        "        X_fooling.grad.data.zero_()\n",
        "\n",
        "    ##############################################################################\n",
        "    #                             END OF YOUR CODE                               #\n",
        "    ##############################################################################\n",
        "    return X_fooling"
      ]
    },
    {
      "cell_type": "code",
      "execution_count": 21,
      "id": "81281231",
      "metadata": {
        "id": "81281231"
      },
      "outputs": [],
      "source": [
        "target_y = 6 # label 'frog'\n",
        "image_to_be_fooled = images[-1:,:,:,:] # an image of plane\n",
        "y = labels[-1:] # label 'plane'\n",
        "\n",
        "X_fooling = make_fooling_image(image_to_be_fooled.to(device), target_y, trained_model.to(device))\n",
        "\n",
        "scores = trained_model(X_fooling)\n",
        "assert target_y == scores.data.max(1)[1][0].item(), 'The model is not fooled!'"
      ]
    },
    {
      "cell_type": "code",
      "execution_count": 22,
      "id": "797f3cd5",
      "metadata": {
        "colab": {
          "base_uri": "https://localhost:8080/",
          "height": 342
        },
        "id": "797f3cd5",
        "outputId": "3022f7e6-cffb-4bec-8875-226eedcf31be"
      },
      "outputs": [
        {
          "output_type": "stream",
          "name": "stderr",
          "text": [
            "WARNING:matplotlib.image:Clipping input data to the valid range for imshow with RGB data ([0..1] for floats or [0..255] for integers).\n",
            "WARNING:matplotlib.image:Clipping input data to the valid range for imshow with RGB data ([0..1] for floats or [0..255] for integers).\n",
            "WARNING:matplotlib.image:Clipping input data to the valid range for imshow with RGB data ([0..1] for floats or [0..255] for integers).\n"
          ]
        },
        {
          "output_type": "display_data",
          "data": {
            "text/plain": [
              "<Figure size 1600x500 with 4 Axes>"
            ],
            "image/png": "[encoded data removed]"
          },
          "metadata": {}
        }
      ],
      "source": [
        "org_img = (torch.squeeze(image_to_be_fooled, dim=0).detach().cpu().numpy()) / 2 + 0.5\n",
        "fooling_img = (torch.squeeze(X_fooling, dim = 0).detach().cpu().numpy()) / 2 + 0.5\n",
        "\n",
        "fooling_img.astype(np.uint8)\n",
        "\n",
        "fig = plt.figure(figsize=(16, 5))\n",
        "plt.subplot(1, 4, 1)\n",
        "plt.imshow(org_img.transpose((1, 2, 0)))\n",
        "plt.title(classes[y])\n",
        "plt.axis('off')\n",
        "\n",
        "plt.subplot(1, 4, 2)\n",
        "plt.imshow(fooling_img.transpose((1, 2, 0)))\n",
        "plt.title(classes[target_y])\n",
        "plt.axis('off')\n",
        "\n",
        "plt.subplot(1, 4, 3)\n",
        "plt.imshow((org_img - fooling_img).transpose((1, 2, 0)))\n",
        "plt.title('difference')\n",
        "plt.axis('off')\n",
        "\n",
        "plt.subplot(1, 4, 4)\n",
        "plt.imshow(10*(org_img - fooling_img).transpose((1, 2, 0)))\n",
        "plt.title('magnified_difference')\n",
        "plt.axis('off')\n",
        "\n",
        "fig.show()"
      ]
    },
    {
      "cell_type": "markdown",
      "id": "843b8082",
      "metadata": {
        "id": "843b8082"
      },
      "source": [
        "Observe the results above and write down your discovery.\n",
        "\n",
        "---\n",
        "\n",
        "**Write your observations and analysis in this Markdown cell:**\n",
        "\n",
        "---\n",
        "\n",
        "```In the provided code, a fooling image is generated by performing gradient ascent on the target class score, aiming to maximize the score for the specified target class. The resulting fooling image should be classified by the model as the target class.\n",
        "\n",
        "**Observations:**\n",
        "1. **Original Image (Plane):** The first subplot displays the original image, which is initially classified as the 'plane' class.\n",
        "2. **Fooling Image (Frog):** The second subplot shows the fooling image generated to make the model classify it as the 'frog' class. The model is successfully fooled, as the target class score is maximized, and the fooling image is now classified as 'frog.'\n",
        "3. **Difference Image:** The third subplot presents the pixel-wise difference between the original and fooling images. It visually highlights the areas that have been modified to achieve the fooling effect.\n",
        "4. **Magnified Difference Image:** The fourth subplot magnifies the pixel-wise difference, emphasizing the regions where the fooling image diverges from the original image. This provides a clearer view of the modifications made during the fooling process.\n",
        "\n",
        "**Discovery:**\n",
        "- The fooling image demonstrates that small, targeted perturbations in the input image can lead to a significant change in the model's classification. The generated fooling image looks visually similar to the original image, but the model is now confidently classifying it as a 'frog.'\n",
        "- The difference images reveal the areas where the fooling image has been altered to mislead the model. The success of the fooling attack highlights the sensitivity of deep neural networks to subtle changes in input images.\n",
        "- The magnified difference image emphasizes the importance of even minor modifications in certain regions, underscoring the intricate decision boundaries learned by the model.\n",
        "\n",
        "This experiment illustrates the vulnerability of neural networks to adversarial attacks, where imperceptible changes in the input can lead to misclassifications. It emphasizes the need for robustness and interpretability in deep learning models, especially in critical applications.\n",
        "\n",
        "```"
      ]
    }
  ],
  "metadata": {
    "accelerator": "GPU",
    "colab": {
      "gpuType": "T4",
      "machine_shape": "hm",
      "provenance": [],
      "toc_visible": true,
      "include_colab_link": true
    },
    "kernelspec": {
      "display_name": "Python [conda env:pytorch] *",
      "language": "python",
      "name": "conda-env-pytorch-py"
    },
    "language_info": {
      "codemirror_mode": {
        "name": "ipython",
        "version": 3
      },
      "file_extension": ".py",
      "mimetype": "text/x-python",
      "name": "python",
      "nbconvert_exporter": "python",
      "pygments_lexer": "ipython3",
      "version": "3.8.12"
    }
  },
  "nbformat": 4,
  "nbformat_minor": 5
}